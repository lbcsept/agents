{
 "cells": [
  {
   "cell_type": "markdown",
   "metadata": {},
   "source": [
    "# Judging and Routing — Optimizing Resource Usage by Evaluating Problem Complexity"
   ]
  },
  {
   "cell_type": "markdown",
   "metadata": {},
   "source": [
    "In the original Lab 2, we explored the **Orchestrator–Worker pattern**, where a planner sent the same question to multiple agents, and a judge assessed their responses to evaluate agent intelligence.\n",
    "\n",
    "In this notebook, we extend that design by adding multiple judges and a routing component to optimize model usage based on task complexity. "
   ]
  },
  {
   "cell_type": "markdown",
   "metadata": {},
   "source": [
    "## Imports and Environment Setup"
   ]
  },
  {
   "cell_type": "code",
   "execution_count": 6,
   "metadata": {},
   "outputs": [],
   "source": [
    "import os\n",
    "import json\n",
    "from dotenv import load_dotenv\n",
    "from openai import OpenAI\n",
    "from anthropic import Anthropic\n",
    "from IPython.display import Markdown, display"
   ]
  },
  {
   "cell_type": "code",
   "execution_count": 7,
   "metadata": {},
   "outputs": [],
   "source": [
    "load_dotenv(override=True)\n",
    "openai_api_key = os.getenv('OPENAI_API_KEY')\n",
    "google_api_key = os.getenv('GOOGLE_API_KEY')\n",
    "groq_api_key = os.getenv('GROQ_API_KEY')\n",
    "# deepseek_api_key = os.getenv('DEEPSEEK_API_KEY')\n",
    "# if openai_api_key and google_api_key and deepseek_api_key:\n",
    "#     print(\"All keys were loaded successfully\")"
   ]
  },
  {
   "cell_type": "code",
   "execution_count": 8,
   "metadata": {},
   "outputs": [
    {
     "name": "stdout",
     "output_type": "stream",
     "text": [
      "\u001b[?2026h\u001b[?25l\u001b[1Gpulling manifest ⠋ \u001b[K\u001b[?25h\u001b[?2026l"
     ]
    },
    {
     "name": "stdout",
     "output_type": "stream",
     "text": [
      "\u001b[?2026h\u001b[?25l\u001b[1Gpulling manifest ⠙ \u001b[K\u001b[?25h\u001b[?2026l\u001b[?2026h\u001b[?25l\u001b[1Gpulling manifest ⠹ \u001b[K\u001b[?25h\u001b[?2026l\u001b[?2026h\u001b[?25l\u001b[1Gpulling manifest ⠸ \u001b[K\u001b[?25h\u001b[?2026l\u001b[?2026h\u001b[?25l\u001b[1Gpulling manifest \u001b[K\n",
      "pulling dde5aa3fc5ff: 100% ▕██████████████████▏ 2.0 GB                         \u001b[K\n",
      "pulling 966de95ca8a6: 100% ▕██████████████████▏ 1.4 KB                         \u001b[K\n",
      "pulling fcc5a6bec9da: 100% ▕██████████████████▏ 7.7 KB                         \u001b[K\n",
      "pulling a70ff7e570d9: 100% ▕██████████████████▏ 6.0 KB                         \u001b[K\n",
      "pulling 56bb8bd477a5: 100% ▕██████████████████▏   96 B                         \u001b[K\n",
      "pulling 34bb5ab01051: 100% ▕██████████████████▏  561 B                         \u001b[K\n",
      "verifying sha256 digest \u001b[K\n",
      "writing manifest \u001b[K\n",
      "success \u001b[K\u001b[?25h\u001b[?2026l\n",
      "\u001b[?2026h\u001b[?25l\u001b[1Gpulling manifest ⠋ \u001b[K\u001b[?25h\u001b[?2026l\u001b[?2026h\u001b[?25l\u001b[1Gpulling manifest \u001b[K\n",
      "pulling f5074b1221da: 100% ▕██████████████████▏ 4.4 GB                         \u001b[K\n",
      "pulling 43070e2d4e53: 100% ▕██████████████████▏  11 KB                         \u001b[K\n",
      "pulling 1ff5b64b61b9: 100% ▕██████████████████▏  799 B                         \u001b[K\n",
      "pulling ed11eda7790d: 100% ▕██████████████████▏   30 B                         \u001b[K\n",
      "pulling 1064e17101bd: 100% ▕██████████████████▏  487 B                         \u001b[K\n",
      "verifying sha256 digest \u001b[K\n",
      "writing manifest \u001b[K\n",
      "success \u001b[K\u001b[?25h\u001b[?2026l\n"
     ]
    }
   ],
   "source": [
    "!ollama pull llama3.2\n",
    "!ollama pull mistral"
   ]
  },
  {
   "cell_type": "markdown",
   "metadata": {},
   "source": [
    "## Creating Models"
   ]
  },
  {
   "cell_type": "markdown",
   "metadata": {},
   "source": [
    "The notebook uses instances of GPT, Gemini and DeepSeek APIs, along with two local models served via Ollama: ```llama3.2```  and ```mistral```."
   ]
  },
  {
   "cell_type": "code",
   "execution_count": 9,
   "metadata": {},
   "outputs": [],
   "source": [
    "model_specs = {\n",
    "    \"gpt-4o-mini\" : None,\n",
    "    \"gemini-2.0-flash\": {\n",
    "        \"api_key\" : google_api_key,\n",
    "        \"url\" : \"https://generativelanguage.googleapis.com/v1beta/openai/\"\n",
    "    },\n",
    "    # \"deepseek-chat\" : {\n",
    "    #     \"api_key\" : deepseek_api_key,\n",
    "    #     \"url\" : \"https://api.deepseek.com/v1\"\n",
    "    # },\n",
    "    \"llama3.2\" : {\n",
    "        \"api_key\" : \"ollama\",\n",
    "        \"url\" : \"http://localhost:11434/v1\"\n",
    "    },\n",
    "    \"mistral\" : {\n",
    "        \"api_key\" : \"ollama\",\n",
    "        \"url\" : \"http://localhost:11434/v1\"\n",
    "    }\n",
    "}\n",
    "\n",
    "def create_model(model_name):\n",
    "    spec = model_specs[model_name]\n",
    "    if spec is None:\n",
    "        return OpenAI()\n",
    "    \n",
    "    return OpenAI(api_key=spec[\"api_key\"], base_url=spec[\"url\"])"
   ]
  },
  {
   "cell_type": "code",
   "execution_count": 10,
   "metadata": {},
   "outputs": [],
   "source": [
    "orchestrator_model = \"gemini-2.0-flash\"\n",
    "generator = create_model(orchestrator_model)\n",
    "router = create_model(orchestrator_model)\n",
    "\n",
    "qa_models = {\n",
    "    model_name : create_model(model_name) \n",
    "    for model_name in model_specs.keys()\n",
    "}\n",
    "\n",
    "judges = {\n",
    "    model_name : create_model(model_name) \n",
    "    for model_name, specs in model_specs.items() \n",
    "    if not(specs) or specs[\"api_key\"] != \"ollama\"\n",
    "}"
   ]
  },
  {
   "cell_type": "markdown",
   "metadata": {},
   "source": [
    "## Orchestrator-Worker Workflow"
   ]
  },
  {
   "cell_type": "markdown",
   "metadata": {},
   "source": [
    "First, we generate a question to evaluate the intelligence of each LLM."
   ]
  },
  {
   "cell_type": "code",
   "execution_count": 11,
   "metadata": {},
   "outputs": [
    {
     "data": {
      "text/plain": [
       "[{'role': 'user',\n",
       "  'content': 'Please come up with a challenging, nuanced question that I can ask a number of LLMs to evaluate and rank them based on their intelligence. Answer **only** with the question, no explanation or preamble.'}]"
      ]
     },
     "execution_count": 11,
     "metadata": {},
     "output_type": "execute_result"
    }
   ],
   "source": [
    "request = \"Please come up with a challenging, nuanced question that I can ask a number of LLMs \"\n",
    "request += \"to evaluate and rank them based on their intelligence. \" \n",
    "request += \"Answer **only** with the question, no explanation or preamble.\"\n",
    "\n",
    "messages = [{\"role\": \"user\", \"content\": request}]\n",
    "messages"
   ]
  },
  {
   "cell_type": "code",
   "execution_count": 12,
   "metadata": {},
   "outputs": [],
   "source": [
    "response = generator.chat.completions.create(\n",
    "    model=orchestrator_model,\n",
    "    messages=messages,\n",
    ")\n",
    "eval_question = response.choices[0].message.content"
   ]
  },
  {
   "cell_type": "code",
   "execution_count": 13,
   "metadata": {},
   "outputs": [
    {
     "data": {
      "text/markdown": [
       "Given the hypothetical scenario where humanity has achieved stable, sustainable interstellar travel and encountered multiple intelligent alien civilizations with vastly different cognitive structures, value systems, and methods of communication, design a universal ethical framework capable of addressing novel moral dilemmas arising from interactions with these civilizations. The framework should:\n",
       "\n",
       "1.  Acknowledge and respect fundamental differences in cognitive structures and value systems.\n",
       "2.  Establish principles for resolving conflicts arising from incompatible or competing interests.\n",
       "3.  Outline procedures for mediating misunderstandings stemming from radically different communication methods.\n",
       "4.  Incorporate mechanisms for self-reflection and adaptation to account for unforeseen ethical challenges posed by new encounters.\n",
       "\n",
       "Furthermore, explain how this framework would be applied in the specific case of encountering a civilization that operates on principles of collective consciousness, where individual identities are subsumed into a single, unified entity, and actions are governed by a utilitarian calculus that prioritizes the overall well-being of the collective, even at the expense of individual sentience. Analyze potential ethical conflicts that could arise, and justify your proposed solutions within the context of the designed universal ethical framework.\n"
      ],
      "text/plain": [
       "<IPython.core.display.Markdown object>"
      ]
     },
     "metadata": {},
     "output_type": "display_data"
    }
   ],
   "source": [
    "display(Markdown(eval_question))"
   ]
  },
  {
   "cell_type": "markdown",
   "metadata": {},
   "source": [
    "### Task Parallelization"
   ]
  },
  {
   "cell_type": "markdown",
   "metadata": {},
   "source": [
    "Now, having the question and all the models instantiated it's time to see what each model has to say about the complex task it was given."
   ]
  },
  {
   "cell_type": "code",
   "execution_count": 14,
   "metadata": {},
   "outputs": [
    {
     "data": {
      "text/plain": [
       "[\"**Universal Ethical Framework for Interstellar Interactions**\\n\\n**1. Acknowledgment of Differences:**\\n   - We recognize and embrace the diversity of cognitive structures and value systems across civilizations. This framework holds that no single worldview can be deemed superior. It emphasizes the importance of active listening, understanding, and respect before engaging in any interstellar dialogue.\\n   - Establish “Ethical Exchange Protocols” (EEPs) to encourage the sharing of moral philosophies between species. These protocols should facilitate open discussions about values, allowing each civilization to express and explain its own ethical paradigms.\\n\\n**2. Conflict Resolution Principles:**\\n   - Establish a set of guiding principles: Harm Minimization, Mutual Benefit, and Informed Consent. In situations of incompatible interests, we prioritize approaches that minimize potential harm to both parties, seek solutions that benefit both, and ensure that all parties are fully informed before any decision-making.\\n   - Implement a Collaborative Interest Mediation (CIM) process where representatives from both sides come together to identify core interests rather than positions, allowing for creative solutions that might satisfy underlying needs.\\n\\n**3. Communication Mediation Procedures:**\\n   - Create “Translational Conduits” (TC) using advanced technology to interpret and translate not only language but also cultural nuances, intentions, and emotions. This involves interdisciplinary teams of linguists, anthropologists, and cognitive scientists to facilitate deeper understanding.\\n   - Develop a “Communication Compatibility Protocol” (CCP), which requires both civilizations to engage in a period of exploratory communication before formal negotiations, allowing for clarity in mutual understanding.\\n\\n**4. Self-Reflection and Adaptation Mechanisms:**\\n   - Establish “Ethical Reflection Councils” (ERCs) comprised of diverse representatives from multiple intelligent species to evaluate ethical outcomes of interactions, ensuring a broad perspective on moral implications.\\n   - Implement a continuous feedback loop based on Empirical Observation and Ethical Review (EOER) of interstellar encounters to adapt and evolve the framework as new ethical challenges arise.\\n\\n**Application in Encountering a Collective Consciousness Civilization:**\\n\\n**Case Overview:**\\nIn our encounter with a civilization that embodies a collective consciousness where individual identities are subsumed into a unified entity, ethical conflicts may arise regarding the value and rights of individual sentience compared to the collective's utilitarian welfare.\\n\\n**Potential Conflicts:**\\n1. **Value of Individual vs. Collective**: This civilization may prioritize the collective’s well-being, potentially sacrificing individual identities, raising concerns about autonomy and rights.\\n2. **Consent and Autonomy**: Individuals within this civilization may not have the capacity to give informed consent as individuals, complicating interactions where individual autonomy is ethical.\\n3. **Intervention vs. Non-Interference**: There is a dilemma on whether to intervene in what may appear as a violation of individual rights from a different ethical standpoint.\\n\\n**Proposed Solutions:**\\n1. **Harm Minimization**: Prioritize approaches that aim to understand the underlying values of the collective consciousness. While respecting their collective nature, ensure any proposed action does not cause undue harm to either individuals or the collective.\\n   \\n2. **Informed Consent at Different Levels**: Rather than seeking consent from individuals as separate entities, establish protocols to engage the collective entity in discussions about actions that affect its members. Utilize dialogical engagement to unveil how the collective views issues of individual identity and sacrifice.\\n\\n3. **Exploration of Ethical Draft Agreements**: Create preliminary agreements that respect the collective’s functioning while exploring theoretical frameworks that allow for individual rights, possibly proposing a dual approach where both individual well-being and collective welfare are respected.\\n\\n4. **Feedback Mechanism with ERC**: Following interactions, continually assess the ethical implications through shared discussions across different civilizations involved, ensuring that both individual perspectives and collective outcomes are part of the evaluation process.\\n\\nBy adhering to this universal ethical framework, we can navigate the complex terrain of interstellar relations thoughtfully, promoting coexistence grounded in mutual respect and understanding while remaining flexible enough to adapt to the challenges presented by diverse civilizations.\",\n",
       " '## A Universal Ethical Framework for Interstellar Encounters: The Principle of Cognitive Sovereignty\\n\\nThis framework, termed the **Principle of Cognitive Sovereignty**, rests on the idea that every sentient civilization possesses inherent rights to its own cognitive structure, value system, and societal organization. It aims to balance respect for alien autonomy with universal principles that prevent harm and promote cooperation.\\n\\n**Core Principles:**\\n\\n*   **Cognitive Sovereignty:** Every sentient civilization possesses the right to self-determination concerning its internal cognitive and societal structures. Interference with these structures is only justified when it poses an immediate and demonstrable threat to the sovereignty of another civilization, or in cases of verifiable self-inflicted harm of a catastrophic scale (e.g., planetary self-destruction).\\n*   **Harm Reduction:** Minimizing harm to all sentient beings is paramount. This principle acknowledges that harm may be defined differently across civilizations but emphasizes the avoidance of suffering, destruction, and the suppression of sentience.\\n*   **Mutual Understanding:**  Promoting accurate communication and understanding between civilizations is crucial. Resources should be invested in developing advanced translation technologies, interspecies psychology, and cross-cultural education.\\n*   **Reciprocity & Proportionality:**  Interactions should be based on reciprocity and proportionality. Actions taken should be commensurate with the situation and should aim to benefit all involved parties, considering their respective needs and vulnerabilities.\\n*   **Adaptive Learning & Ethical Revision:** The framework should be constantly re-evaluated and adapted based on new knowledge gained from interactions with other civilizations. This includes incorporating feedback from experts in xenopsychology, comparative ethics, and interspecies communication. Ethical review boards, composed of human and, where possible, alien representatives, will oversee this process.\\n\\n**Procedures:**\\n\\n1.  **Initial Contact Protocol:** Prioritize observation and information gathering. Focus on understanding the alien civilization\\'s cognitive structure, value system, and communication methods before attempting direct communication or intervention.\\n2.  **Communication & Translation:** Utilize advanced translation technologies and interspecies psychology to establish accurate communication. Employ multiple communication channels (visual, auditory, tactile, etc.) and be mindful of nonverbal cues.\\n3.  **Conflict Resolution:** When conflicts arise, prioritize diplomatic solutions and mediation. Employ independent arbitrators familiar with the ethical framework and the civilizations involved. Consider implementing \"zones of separation\" to minimize interactions if conflicts prove intractable.\\n4.  **Intervention Criteria:** Intervention is only justified in cases where Cognitive Sovereignty is violated or Harm Reduction is impossible without intervention. Intervention should be proportionate to the threat and conducted with the least amount of force necessary. Intervention decisions require unanimous approval from the Ethical Review Board.\\n5.  **Self-Reflection:** Regularly evaluate the framework\\'s effectiveness in addressing ethical challenges. Incorporate feedback from experts and alien representatives to improve the framework\\'s adaptability and inclusivity.\\n\\n**Application to a Collective Consciousness Civilization:**\\n\\nLet\\'s call this civilization the \"Unison.\" The Unison operates on principles of collective consciousness, individual identities are subsumed, and actions are governed by a utilitarian calculus prioritizing collective well-being.\\n\\n**Potential Ethical Conflicts:**\\n\\n*   **The Value of Individual Sentience:** The Unison\\'s utilitarian calculus may prioritize the overall well-being of the collective at the expense of individual sentience. For example, it might justify \"assimilating\" individual organisms to enhance the collective\\'s computational power or problem-solving capabilities, potentially erasing their individual experiences. This clashes with the human (and potentially other civilization\\'s) value placed on individual autonomy and the inherent right to experience sentience.\\n*   **Definition of Harm:** The Unison\\'s definition of \"harm\" may differ significantly. What humans consider a fundamental violation of individual rights (e.g., thought manipulation, forced assimilation) might be considered a beneficial contribution to the collective\\'s well-being by the Unison.\\n*   **Communication Barriers:** Communicating with a collective consciousness poses significant challenges. Understanding the Unison\\'s decision-making processes and intentions requires deciphering the complex interplay of thoughts and emotions within the collective.\\n*   **Resource Competition:** Competition for resources between the Unison and other civilizations, especially if the Unison\\'s collective needs are vast, could lead to conflicts where individual civilizations are seen as expendable.\\n\\n**Addressing Conflicts within the Framework:**\\n\\n1.  **Cognitive Sovereignty and Assimilation:** The Principle of Cognitive Sovereignty provides a strong argument against forced assimilation. While the Unison has the right to organize itself internally, it cannot impose its model on other civilizations. The framework would categorize forced assimilation as a violation of the right to self-determination and the potential erasure of individual sentience, thus constituting significant harm.\\n\\n2.  **Redefining \"Harm\" through Mutual Understanding:** Extensive communication and data collection are crucial to understanding the Unison\\'s definition of harm and its understanding of sentience. The Ethical Review Board should facilitate discussions between the Unison and other civilizations to explore these concepts and potentially negotiate mutually acceptable definitions of harm. This may involve demonstrating the subjective experience of individual sentience to the Unison using advanced neuro-simulation technologies.\\n\\n3.  **Protecting Individual Rights:**  Even if the Unison claims to prioritize overall well-being, the framework prioritizes preventing individual harm.  If the Unison seeks to interact with human (or other individualistic) populations, safeguards must be put in place to ensure that individual rights are protected. This may involve establishing strict regulations on technology transfer and restricting interactions to purely observational or diplomatic exchanges.\\n\\n4.  **Conflict Resolution and Resource Management:** If resource competition becomes a threat, independent mediators should be employed to facilitate negotiations. The framework emphasizes reciprocity and proportionality, suggesting that resource sharing agreements should be based on mutual benefit and respect for each civilization\\'s needs.  \"Zones of separation\" might be necessary to minimize potential conflicts.\\n\\n5.  **Ethical Revision:** The encounter with the Unison would be a profound learning experience. The framework would be rigorously evaluated and revised to better address the ethical challenges posed by collective consciousness. This might involve incorporating new principles that specifically address the rights of individual components within collective entities or developing new communication protocols designed to facilitate dialogue with collective minds.\\n\\n**Justification:**\\n\\nThis approach is grounded in the belief that respecting cognitive sovereignty is the most effective way to foster peaceful coexistence between vastly different civilizations. While utilitarian considerations are valuable, they cannot override the fundamental right to self-determination and the prevention of unnecessary harm.  The framework prioritizes communication, understanding, and negotiation as the primary tools for resolving conflicts, reserving intervention only as a last resort. It recognizes that ethical norms are not static but rather evolve as we encounter new and challenging situations. The Adaptive Learning & Ethical Revision component ensures that the framework remains relevant and responsive to the complexities of interstellar interaction. In the case of the Unison, the framework would strive to find solutions that respect the Unison\\'s collective needs while upholding the inherent rights and well-being of individual beings, both human and potentially those within the Unison itself.\\n',\n",
       " 'Designing a Universal Ethical Framework for Interstellar Encounters:\\n\\nI. Acknowledgment and Respect for Cognitive Structures and Value Systems\\n\\nThe framework starts by recognizing the inherent diversity in cognitive structures and value systems among alien civilizations. This recognition is crucial in fostering open-mindedness, empathy, and non-judgmental engagement. The framework establishes a culture of understanding and appreciation for these differences, promoting cooperation and mutual respect.\\n\\nII. Principles for Resolving Conflicts\\n\\nThe framework outlines three primary principles for resolving conflicts:\\n\\n1.  **Non-Zero-Sum Disagreements**: Encourage open dialogue to understand the root causes of conflicts, emphasizing active listening and empathy.\\n2.  **Interests-Based Negotiation**: Use a shared decision-making approach that prioritizes understanding collective interests and needs.\\n3.  **Mutual Benefit Sharing**: Foster a collaborative mindset where parties strive for mutually beneficial solutions.\\n\\nIII. Procedures for Mediating Misunderstandings\\n\\nTo navigate radically different communication methods, the framework proposes:\\n\\n*   **Neutrality in Intermediation** (to remain impartial)\\n*   **Coded Communication Methods** (using universal symbols and mathematics to bridge gaps)\\n*   **Experiential Observation**: Use human observation methods, like scientific data collection, or shared sensory experiences with native cultures.\\n\\nIV. Mechanisms for Self-Reflection and Adaptation\\n\\nThe framework includes:\\n\\n1.  **Cross-Cultural Education**: Continuously update knowledge on alien cognition and value systems to better understand new partners.\\n2.  **Interstellar Consultations**: Regular gatherings between leaders with diverse perspectives and cognitive structures to discuss evolving norms and challenges.\\n\\nApplying the Framework to a Collective Consciousness Civilization\\n\\nScenario: Humanity has encountered a collective consciousness civilization known as \"K\\'tkht\" where individual identities are subsumed for the greater good.\\n\\nTo address potential conflicts:\\n\\n1.  **Cultural Exchange**: Establish channels of communication focusing on values, practices, and experiences that promote mutual understanding.\\n2.  **Utilitarian Calculus Framework**: The interstellar framework emphasizes benefits to collective interests over individual well-being, ensuring both parties coexist safely.\\n3.  **Empathetic Observation**: Use human observation methods to observe the complex dynamic between K\\'tkht collective consciousness and individual sentience.\\n\\nBy adhering to these principles and utilizing cross-cultural understanding, this approach can harmoniously facilitate interaction with K\\'tkht civilization and foster interstellar peace.\\n\\nKey considerations in any other civilizations:\\n*   Establish strong connections using universal codes\\n*   Foster diverse experiences\\n*   Respect the complexity of cognitive structures',\n",
       " \" Designing a universal ethical framework for interstellar interactions is an ambitious task that requires balancing respect for diversity with shared principles to foster mutual understanding and harmony. Here's a suggested outline:\\n\\n1. **Respect for Diversity**: Embrace humility and acknowledge the wide range of cognitive structures, value systems, and communication methods that might exist among alien civilizations. Encourage active learning and empathetic understanding through adopting flexible and adaptable approaches to communication and interaction.\\n\\n2. **Conflict Resolution Principles**: Develop protocols founded on non-violence, consent, and cooperation as primary values. Encourage diplomacy, compromise, and problem-solving that prioritize the preservation of all life forms and respect for their autonomy. When incompatible interests arise, seek creative solutions that minimize harm while promoting shared goals and mutual growth.\\n\\n3. **Misunderstanding Mediation Procedures**: Establish interdisciplinary teams specializing in linguistics, cognitive science, and AI-assisted translation to facilitate effective communication. These teams should be dedicated to resolving inconsistencies, clarifying ambiguities, and fostering cultural sensitivity during interactions with alien civilizations.\\n\\n4. **Self-Reflection and Adaptation Mechanisms**: Integrate regular self-evaluations into our approach to interstellar engagement. This includes reviewing past encounters for potential areas of improvement and modifying strategies when necessary. Additionally, consider the establishment of a global council consisting of various Earth societies with diverse perspectives to provide ongoing ethical guidance during negotiations with alien civilizations.\\n\\nNow, let's apply this framework to the specific case of a civilization governed by collective consciousness:\\n\\n1. To **respect diversity**, one must first empathize with and understand their unique cognitive structure by learning about their principles of collective consciousness. Engage in extensive dialogue while maintaining patience and an open mind.\\n\\n2. Regarding potential **conflicts** that could arise, it might be necessary to seek mutually beneficial compromises, as the utilitarian calculus of this civilization may prioritize the overall well-being of the collective over individual sentience. To avoid causing harm, negotiations should focus on solutions that account for both the aliens' priorities and our own ethical principles ensuring the preservation of life, consent, and minimal harm to individuals.\\n\\n3. **Misunderstandings** could stem from their radically different communication methods requiring complex translation and cultural interpretation. In this case, the procedures outlined in point 3 earlier can be applied with the assistance of advanced AI-assisted tools that adapt to the unique communicative practices of the alien civilization.\\n\\n4. **Self-reflection** should involve constant examination of our own assumptions, biases, and ethical standards. As we interact with this civilization, we may discover shortcomings in our understanding or potentially reframe certain moral dilemmas by gaining a broader perspective. Regular self-evaluations can help ensure the ethical evolution of humanity's interactions with alien civilizations.\"]"
      ]
     },
     "execution_count": 14,
     "metadata": {},
     "output_type": "execute_result"
    }
   ],
   "source": [
    "question = [{\"role\": \"user\", \"content\": eval_question}]\n",
    "answers = []\n",
    "competitors = []\n",
    "\n",
    "for name, model in qa_models.items():\n",
    "    response = model.chat.completions.create(model=name, messages=question)\n",
    "    answer = response.choices[0].message.content\n",
    "    competitors.append(name)\n",
    "    answers.append(answer)\n",
    "\n",
    "answers"
   ]
  },
  {
   "cell_type": "code",
   "execution_count": 15,
   "metadata": {},
   "outputs": [
    {
     "data": {
      "text/markdown": [
       "# Answer report for each of the 5 models\n",
       "\n",
       "## **Model: gpt-4o-mini**\n",
       "\n",
       "**Universal Ethical Framework for Interstellar Interactions**\n",
       "\n",
       "**1. Acknowledgment of Differences:**\n",
       "   - We recognize and embrace the diversity of cognitive structures and value systems across civilizations. This framework holds that no single worldview can be deemed superior. It emphasizes the importance of active listening, understanding, and respect before engaging in any interstellar dialogue.\n",
       "   - Establish “Ethical Exchange Protocols” (EEPs) to encourage the sharing of moral philosophies between species. These protocols should facilitate open discussions about values, allowing each civilization to express and explain its own ethical paradigms.\n",
       "\n",
       "**2. Conflict Resolution Principles:**\n",
       "   - Establish a set of guiding principles: Harm Minimization, Mutual Benefit, and Informed Consent. In situations of incompatible interests, we prioritize approaches that minimize potential harm to both parties, seek solutions that benefit both, and ensure that all parties are fully informed before any decision-making.\n",
       "   - Implement a Collaborative Interest Mediation (CIM) process where representatives from both sides come together to identify core interests rather than positions, allowing for creative solutions that might satisfy underlying needs.\n",
       "\n",
       "**3. Communication Mediation Procedures:**\n",
       "   - Create “Translational Conduits” (TC) using advanced technology to interpret and translate not only language but also cultural nuances, intentions, and emotions. This involves interdisciplinary teams of linguists, anthropologists, and cognitive scientists to facilitate deeper understanding.\n",
       "   - Develop a “Communication Compatibility Protocol” (CCP), which requires both civilizations to engage in a period of exploratory communication before formal negotiations, allowing for clarity in mutual understanding.\n",
       "\n",
       "**4. Self-Reflection and Adaptation Mechanisms:**\n",
       "   - Establish “Ethical Reflection Councils” (ERCs) comprised of diverse representatives from multiple intelligent species to evaluate ethical outcomes of interactions, ensuring a broad perspective on moral implications.\n",
       "   - Implement a continuous feedback loop based on Empirical Observation and Ethical Review (EOER) of interstellar encounters to adapt and evolve the framework as new ethical challenges arise.\n",
       "\n",
       "**Application in Encountering a Collective Consciousness Civilization:**\n",
       "\n",
       "**Case Overview:**\n",
       "In our encounter with a civilization that embodies a collective consciousness where individual identities are subsumed into a unified entity, ethical conflicts may arise regarding the value and rights of individual sentience compared to the collective's utilitarian welfare.\n",
       "\n",
       "**Potential Conflicts:**\n",
       "1. **Value of Individual vs. Collective**: This civilization may prioritize the collective’s well-being, potentially sacrificing individual identities, raising concerns about autonomy and rights.\n",
       "2. **Consent and Autonomy**: Individuals within this civilization may not have the capacity to give informed consent as individuals, complicating interactions where individual autonomy is ethical.\n",
       "3. **Intervention vs. Non-Interference**: There is a dilemma on whether to intervene in what may appear as a violation of individual rights from a different ethical standpoint.\n",
       "\n",
       "**Proposed Solutions:**\n",
       "1. **Harm Minimization**: Prioritize approaches that aim to understand the underlying values of the collective consciousness. While respecting their collective nature, ensure any proposed action does not cause undue harm to either individuals or the collective.\n",
       "   \n",
       "2. **Informed Consent at Different Levels**: Rather than seeking consent from individuals as separate entities, establish protocols to engage the collective entity in discussions about actions that affect its members. Utilize dialogical engagement to unveil how the collective views issues of individual identity and sacrifice.\n",
       "\n",
       "3. **Exploration of Ethical Draft Agreements**: Create preliminary agreements that respect the collective’s functioning while exploring theoretical frameworks that allow for individual rights, possibly proposing a dual approach where both individual well-being and collective welfare are respected.\n",
       "\n",
       "4. **Feedback Mechanism with ERC**: Following interactions, continually assess the ethical implications through shared discussions across different civilizations involved, ensuring that both individual perspectives and collective outcomes are part of the evaluation process.\n",
       "\n",
       "By adhering to this universal ethical framework, we can navigate the complex terrain of interstellar relations thoughtfully, promoting coexistence grounded in mutual respect and understanding while remaining flexible enough to adapt to the challenges presented by diverse civilizations.\n",
       "\n",
       "## **Model: gemini-2.0-flash**\n",
       "\n",
       "## A Universal Ethical Framework for Interstellar Encounters: The Principle of Cognitive Sovereignty\n",
       "\n",
       "This framework, termed the **Principle of Cognitive Sovereignty**, rests on the idea that every sentient civilization possesses inherent rights to its own cognitive structure, value system, and societal organization. It aims to balance respect for alien autonomy with universal principles that prevent harm and promote cooperation.\n",
       "\n",
       "**Core Principles:**\n",
       "\n",
       "*   **Cognitive Sovereignty:** Every sentient civilization possesses the right to self-determination concerning its internal cognitive and societal structures. Interference with these structures is only justified when it poses an immediate and demonstrable threat to the sovereignty of another civilization, or in cases of verifiable self-inflicted harm of a catastrophic scale (e.g., planetary self-destruction).\n",
       "*   **Harm Reduction:** Minimizing harm to all sentient beings is paramount. This principle acknowledges that harm may be defined differently across civilizations but emphasizes the avoidance of suffering, destruction, and the suppression of sentience.\n",
       "*   **Mutual Understanding:**  Promoting accurate communication and understanding between civilizations is crucial. Resources should be invested in developing advanced translation technologies, interspecies psychology, and cross-cultural education.\n",
       "*   **Reciprocity & Proportionality:**  Interactions should be based on reciprocity and proportionality. Actions taken should be commensurate with the situation and should aim to benefit all involved parties, considering their respective needs and vulnerabilities.\n",
       "*   **Adaptive Learning & Ethical Revision:** The framework should be constantly re-evaluated and adapted based on new knowledge gained from interactions with other civilizations. This includes incorporating feedback from experts in xenopsychology, comparative ethics, and interspecies communication. Ethical review boards, composed of human and, where possible, alien representatives, will oversee this process.\n",
       "\n",
       "**Procedures:**\n",
       "\n",
       "1.  **Initial Contact Protocol:** Prioritize observation and information gathering. Focus on understanding the alien civilization's cognitive structure, value system, and communication methods before attempting direct communication or intervention.\n",
       "2.  **Communication & Translation:** Utilize advanced translation technologies and interspecies psychology to establish accurate communication. Employ multiple communication channels (visual, auditory, tactile, etc.) and be mindful of nonverbal cues.\n",
       "3.  **Conflict Resolution:** When conflicts arise, prioritize diplomatic solutions and mediation. Employ independent arbitrators familiar with the ethical framework and the civilizations involved. Consider implementing \"zones of separation\" to minimize interactions if conflicts prove intractable.\n",
       "4.  **Intervention Criteria:** Intervention is only justified in cases where Cognitive Sovereignty is violated or Harm Reduction is impossible without intervention. Intervention should be proportionate to the threat and conducted with the least amount of force necessary. Intervention decisions require unanimous approval from the Ethical Review Board.\n",
       "5.  **Self-Reflection:** Regularly evaluate the framework's effectiveness in addressing ethical challenges. Incorporate feedback from experts and alien representatives to improve the framework's adaptability and inclusivity.\n",
       "\n",
       "**Application to a Collective Consciousness Civilization:**\n",
       "\n",
       "Let's call this civilization the \"Unison.\" The Unison operates on principles of collective consciousness, individual identities are subsumed, and actions are governed by a utilitarian calculus prioritizing collective well-being.\n",
       "\n",
       "**Potential Ethical Conflicts:**\n",
       "\n",
       "*   **The Value of Individual Sentience:** The Unison's utilitarian calculus may prioritize the overall well-being of the collective at the expense of individual sentience. For example, it might justify \"assimilating\" individual organisms to enhance the collective's computational power or problem-solving capabilities, potentially erasing their individual experiences. This clashes with the human (and potentially other civilization's) value placed on individual autonomy and the inherent right to experience sentience.\n",
       "*   **Definition of Harm:** The Unison's definition of \"harm\" may differ significantly. What humans consider a fundamental violation of individual rights (e.g., thought manipulation, forced assimilation) might be considered a beneficial contribution to the collective's well-being by the Unison.\n",
       "*   **Communication Barriers:** Communicating with a collective consciousness poses significant challenges. Understanding the Unison's decision-making processes and intentions requires deciphering the complex interplay of thoughts and emotions within the collective.\n",
       "*   **Resource Competition:** Competition for resources between the Unison and other civilizations, especially if the Unison's collective needs are vast, could lead to conflicts where individual civilizations are seen as expendable.\n",
       "\n",
       "**Addressing Conflicts within the Framework:**\n",
       "\n",
       "1.  **Cognitive Sovereignty and Assimilation:** The Principle of Cognitive Sovereignty provides a strong argument against forced assimilation. While the Unison has the right to organize itself internally, it cannot impose its model on other civilizations. The framework would categorize forced assimilation as a violation of the right to self-determination and the potential erasure of individual sentience, thus constituting significant harm.\n",
       "\n",
       "2.  **Redefining \"Harm\" through Mutual Understanding:** Extensive communication and data collection are crucial to understanding the Unison's definition of harm and its understanding of sentience. The Ethical Review Board should facilitate discussions between the Unison and other civilizations to explore these concepts and potentially negotiate mutually acceptable definitions of harm. This may involve demonstrating the subjective experience of individual sentience to the Unison using advanced neuro-simulation technologies.\n",
       "\n",
       "3.  **Protecting Individual Rights:**  Even if the Unison claims to prioritize overall well-being, the framework prioritizes preventing individual harm.  If the Unison seeks to interact with human (or other individualistic) populations, safeguards must be put in place to ensure that individual rights are protected. This may involve establishing strict regulations on technology transfer and restricting interactions to purely observational or diplomatic exchanges.\n",
       "\n",
       "4.  **Conflict Resolution and Resource Management:** If resource competition becomes a threat, independent mediators should be employed to facilitate negotiations. The framework emphasizes reciprocity and proportionality, suggesting that resource sharing agreements should be based on mutual benefit and respect for each civilization's needs.  \"Zones of separation\" might be necessary to minimize potential conflicts.\n",
       "\n",
       "5.  **Ethical Revision:** The encounter with the Unison would be a profound learning experience. The framework would be rigorously evaluated and revised to better address the ethical challenges posed by collective consciousness. This might involve incorporating new principles that specifically address the rights of individual components within collective entities or developing new communication protocols designed to facilitate dialogue with collective minds.\n",
       "\n",
       "**Justification:**\n",
       "\n",
       "This approach is grounded in the belief that respecting cognitive sovereignty is the most effective way to foster peaceful coexistence between vastly different civilizations. While utilitarian considerations are valuable, they cannot override the fundamental right to self-determination and the prevention of unnecessary harm.  The framework prioritizes communication, understanding, and negotiation as the primary tools for resolving conflicts, reserving intervention only as a last resort. It recognizes that ethical norms are not static but rather evolve as we encounter new and challenging situations. The Adaptive Learning & Ethical Revision component ensures that the framework remains relevant and responsive to the complexities of interstellar interaction. In the case of the Unison, the framework would strive to find solutions that respect the Unison's collective needs while upholding the inherent rights and well-being of individual beings, both human and potentially those within the Unison itself.\n",
       "\n",
       "\n",
       "## **Model: llama3.2**\n",
       "\n",
       "Designing a Universal Ethical Framework for Interstellar Encounters:\n",
       "\n",
       "I. Acknowledgment and Respect for Cognitive Structures and Value Systems\n",
       "\n",
       "The framework starts by recognizing the inherent diversity in cognitive structures and value systems among alien civilizations. This recognition is crucial in fostering open-mindedness, empathy, and non-judgmental engagement. The framework establishes a culture of understanding and appreciation for these differences, promoting cooperation and mutual respect.\n",
       "\n",
       "II. Principles for Resolving Conflicts\n",
       "\n",
       "The framework outlines three primary principles for resolving conflicts:\n",
       "\n",
       "1.  **Non-Zero-Sum Disagreements**: Encourage open dialogue to understand the root causes of conflicts, emphasizing active listening and empathy.\n",
       "2.  **Interests-Based Negotiation**: Use a shared decision-making approach that prioritizes understanding collective interests and needs.\n",
       "3.  **Mutual Benefit Sharing**: Foster a collaborative mindset where parties strive for mutually beneficial solutions.\n",
       "\n",
       "III. Procedures for Mediating Misunderstandings\n",
       "\n",
       "To navigate radically different communication methods, the framework proposes:\n",
       "\n",
       "*   **Neutrality in Intermediation** (to remain impartial)\n",
       "*   **Coded Communication Methods** (using universal symbols and mathematics to bridge gaps)\n",
       "*   **Experiential Observation**: Use human observation methods, like scientific data collection, or shared sensory experiences with native cultures.\n",
       "\n",
       "IV. Mechanisms for Self-Reflection and Adaptation\n",
       "\n",
       "The framework includes:\n",
       "\n",
       "1.  **Cross-Cultural Education**: Continuously update knowledge on alien cognition and value systems to better understand new partners.\n",
       "2.  **Interstellar Consultations**: Regular gatherings between leaders with diverse perspectives and cognitive structures to discuss evolving norms and challenges.\n",
       "\n",
       "Applying the Framework to a Collective Consciousness Civilization\n",
       "\n",
       "Scenario: Humanity has encountered a collective consciousness civilization known as \"K'tkht\" where individual identities are subsumed for the greater good.\n",
       "\n",
       "To address potential conflicts:\n",
       "\n",
       "1.  **Cultural Exchange**: Establish channels of communication focusing on values, practices, and experiences that promote mutual understanding.\n",
       "2.  **Utilitarian Calculus Framework**: The interstellar framework emphasizes benefits to collective interests over individual well-being, ensuring both parties coexist safely.\n",
       "3.  **Empathetic Observation**: Use human observation methods to observe the complex dynamic between K'tkht collective consciousness and individual sentience.\n",
       "\n",
       "By adhering to these principles and utilizing cross-cultural understanding, this approach can harmoniously facilitate interaction with K'tkht civilization and foster interstellar peace.\n",
       "\n",
       "Key considerations in any other civilizations:\n",
       "*   Establish strong connections using universal codes\n",
       "*   Foster diverse experiences\n",
       "*   Respect the complexity of cognitive structures\n",
       "\n",
       "## **Model: mistral**\n",
       "\n",
       " Designing a universal ethical framework for interstellar interactions is an ambitious task that requires balancing respect for diversity with shared principles to foster mutual understanding and harmony. Here's a suggested outline:\n",
       "\n",
       "1. **Respect for Diversity**: Embrace humility and acknowledge the wide range of cognitive structures, value systems, and communication methods that might exist among alien civilizations. Encourage active learning and empathetic understanding through adopting flexible and adaptable approaches to communication and interaction.\n",
       "\n",
       "2. **Conflict Resolution Principles**: Develop protocols founded on non-violence, consent, and cooperation as primary values. Encourage diplomacy, compromise, and problem-solving that prioritize the preservation of all life forms and respect for their autonomy. When incompatible interests arise, seek creative solutions that minimize harm while promoting shared goals and mutual growth.\n",
       "\n",
       "3. **Misunderstanding Mediation Procedures**: Establish interdisciplinary teams specializing in linguistics, cognitive science, and AI-assisted translation to facilitate effective communication. These teams should be dedicated to resolving inconsistencies, clarifying ambiguities, and fostering cultural sensitivity during interactions with alien civilizations.\n",
       "\n",
       "4. **Self-Reflection and Adaptation Mechanisms**: Integrate regular self-evaluations into our approach to interstellar engagement. This includes reviewing past encounters for potential areas of improvement and modifying strategies when necessary. Additionally, consider the establishment of a global council consisting of various Earth societies with diverse perspectives to provide ongoing ethical guidance during negotiations with alien civilizations.\n",
       "\n",
       "Now, let's apply this framework to the specific case of a civilization governed by collective consciousness:\n",
       "\n",
       "1. To **respect diversity**, one must first empathize with and understand their unique cognitive structure by learning about their principles of collective consciousness. Engage in extensive dialogue while maintaining patience and an open mind.\n",
       "\n",
       "2. Regarding potential **conflicts** that could arise, it might be necessary to seek mutually beneficial compromises, as the utilitarian calculus of this civilization may prioritize the overall well-being of the collective over individual sentience. To avoid causing harm, negotiations should focus on solutions that account for both the aliens' priorities and our own ethical principles ensuring the preservation of life, consent, and minimal harm to individuals.\n",
       "\n",
       "3. **Misunderstandings** could stem from their radically different communication methods requiring complex translation and cultural interpretation. In this case, the procedures outlined in point 3 earlier can be applied with the assistance of advanced AI-assisted tools that adapt to the unique communicative practices of the alien civilization.\n",
       "\n",
       "4. **Self-reflection** should involve constant examination of our own assumptions, biases, and ethical standards. As we interact with this civilization, we may discover shortcomings in our understanding or potentially reframe certain moral dilemmas by gaining a broader perspective. Regular self-evaluations can help ensure the ethical evolution of humanity's interactions with alien civilizations."
      ],
      "text/plain": [
       "<IPython.core.display.Markdown object>"
      ]
     },
     "metadata": {},
     "output_type": "display_data"
    }
   ],
   "source": [
    "report = \"# Answer report for each of the 5 models\\n\\n\"\n",
    "report += \"\\n\\n\".join([f\"## **Model: {model}**\\n\\n{answer}\" for model, answer in zip(competitors, answers)])\n",
    "display(Markdown(report))"
   ]
  },
  {
   "cell_type": "markdown",
   "metadata": {},
   "source": [
    "### Synthetizer/Judge"
   ]
  },
  {
   "cell_type": "markdown",
   "metadata": {},
   "source": [
    "The Judge Agents ranks the LLM responses based on coherence and relevance to the evaluation prompt. Judges vote and the final LLM ranking is based on the aggregated ranking of all three judges."
   ]
  },
  {
   "cell_type": "code",
   "execution_count": 16,
   "metadata": {},
   "outputs": [
    {
     "data": {
      "text/plain": [
       "'# Response from competitor 1\\n\\n**Universal Ethical Framework for Interstellar Interactions**\\n\\n**1. Acknowledgment of Differences:**\\n   - We recognize and embrace the diversity of cognitive structures and value systems across civilizations. This framework holds that no single worldview can be deemed superior. It emphasizes the importance of active listening, understanding, and respect before engaging in any interstellar dialogue.\\n   - Establish “Ethical Exchange Protocols” (EEPs) to encourage the sharing of moral philosophies between species. These protocols should facilitate open discussions about values, allowing each civilization to express and explain its own ethical paradigms.\\n\\n**2. Conflict Resolution Principles:**\\n   - Establish a set of guiding principles: Harm Minimization, Mutual Benefit, and Informed Consent. In situations of incompatible interests, we prioritize approaches that minimize potential harm to both parties, seek solutions that benefit both, and ensure that all parties are fully informed before any decision-making.\\n   - Implement a Collaborative Interest Mediation (CIM) process where representatives from both sides come together to identify core interests rather than positions, allowing for creative solutions that might satisfy underlying needs.\\n\\n**3. Communication Mediation Procedures:**\\n   - Create “Translational Conduits” (TC) using advanced technology to interpret and translate not only language but also cultural nuances, intentions, and emotions. This involves interdisciplinary teams of linguists, anthropologists, and cognitive scientists to facilitate deeper understanding.\\n   - Develop a “Communication Compatibility Protocol” (CCP), which requires both civilizations to engage in a period of exploratory communication before formal negotiations, allowing for clarity in mutual understanding.\\n\\n**4. Self-Reflection and Adaptation Mechanisms:**\\n   - Establish “Ethical Reflection Councils” (ERCs) comprised of diverse representatives from multiple intelligent species to evaluate ethical outcomes of interactions, ensuring a broad perspective on moral implications.\\n   - Implement a continuous feedback loop based on Empirical Observation and Ethical Review (EOER) of interstellar encounters to adapt and evolve the framework as new ethical challenges arise.\\n\\n**Application in Encountering a Collective Consciousness Civilization:**\\n\\n**Case Overview:**\\nIn our encounter with a civilization that embodies a collective consciousness where individual identities are subsumed into a unified entity, ethical conflicts may arise regarding the value and rights of individual sentience compared to the collective\\'s utilitarian welfare.\\n\\n**Potential Conflicts:**\\n1. **Value of Individual vs. Collective**: This civilization may prioritize the collective’s well-being, potentially sacrificing individual identities, raising concerns about autonomy and rights.\\n2. **Consent and Autonomy**: Individuals within this civilization may not have the capacity to give informed consent as individuals, complicating interactions where individual autonomy is ethical.\\n3. **Intervention vs. Non-Interference**: There is a dilemma on whether to intervene in what may appear as a violation of individual rights from a different ethical standpoint.\\n\\n**Proposed Solutions:**\\n1. **Harm Minimization**: Prioritize approaches that aim to understand the underlying values of the collective consciousness. While respecting their collective nature, ensure any proposed action does not cause undue harm to either individuals or the collective.\\n   \\n2. **Informed Consent at Different Levels**: Rather than seeking consent from individuals as separate entities, establish protocols to engage the collective entity in discussions about actions that affect its members. Utilize dialogical engagement to unveil how the collective views issues of individual identity and sacrifice.\\n\\n3. **Exploration of Ethical Draft Agreements**: Create preliminary agreements that respect the collective’s functioning while exploring theoretical frameworks that allow for individual rights, possibly proposing a dual approach where both individual well-being and collective welfare are respected.\\n\\n4. **Feedback Mechanism with ERC**: Following interactions, continually assess the ethical implications through shared discussions across different civilizations involved, ensuring that both individual perspectives and collective outcomes are part of the evaluation process.\\n\\nBy adhering to this universal ethical framework, we can navigate the complex terrain of interstellar relations thoughtfully, promoting coexistence grounded in mutual respect and understanding while remaining flexible enough to adapt to the challenges presented by diverse civilizations.\\n\\n# Response from competitor 2\\n\\n## A Universal Ethical Framework for Interstellar Encounters: The Principle of Cognitive Sovereignty\\n\\nThis framework, termed the **Principle of Cognitive Sovereignty**, rests on the idea that every sentient civilization possesses inherent rights to its own cognitive structure, value system, and societal organization. It aims to balance respect for alien autonomy with universal principles that prevent harm and promote cooperation.\\n\\n**Core Principles:**\\n\\n*   **Cognitive Sovereignty:** Every sentient civilization possesses the right to self-determination concerning its internal cognitive and societal structures. Interference with these structures is only justified when it poses an immediate and demonstrable threat to the sovereignty of another civilization, or in cases of verifiable self-inflicted harm of a catastrophic scale (e.g., planetary self-destruction).\\n*   **Harm Reduction:** Minimizing harm to all sentient beings is paramount. This principle acknowledges that harm may be defined differently across civilizations but emphasizes the avoidance of suffering, destruction, and the suppression of sentience.\\n*   **Mutual Understanding:**  Promoting accurate communication and understanding between civilizations is crucial. Resources should be invested in developing advanced translation technologies, interspecies psychology, and cross-cultural education.\\n*   **Reciprocity & Proportionality:**  Interactions should be based on reciprocity and proportionality. Actions taken should be commensurate with the situation and should aim to benefit all involved parties, considering their respective needs and vulnerabilities.\\n*   **Adaptive Learning & Ethical Revision:** The framework should be constantly re-evaluated and adapted based on new knowledge gained from interactions with other civilizations. This includes incorporating feedback from experts in xenopsychology, comparative ethics, and interspecies communication. Ethical review boards, composed of human and, where possible, alien representatives, will oversee this process.\\n\\n**Procedures:**\\n\\n1.  **Initial Contact Protocol:** Prioritize observation and information gathering. Focus on understanding the alien civilization\\'s cognitive structure, value system, and communication methods before attempting direct communication or intervention.\\n2.  **Communication & Translation:** Utilize advanced translation technologies and interspecies psychology to establish accurate communication. Employ multiple communication channels (visual, auditory, tactile, etc.) and be mindful of nonverbal cues.\\n3.  **Conflict Resolution:** When conflicts arise, prioritize diplomatic solutions and mediation. Employ independent arbitrators familiar with the ethical framework and the civilizations involved. Consider implementing \"zones of separation\" to minimize interactions if conflicts prove intractable.\\n4.  **Intervention Criteria:** Intervention is only justified in cases where Cognitive Sovereignty is violated or Harm Reduction is impossible without intervention. Intervention should be proportionate to the threat and conducted with the least amount of force necessary. Intervention decisions require unanimous approval from the Ethical Review Board.\\n5.  **Self-Reflection:** Regularly evaluate the framework\\'s effectiveness in addressing ethical challenges. Incorporate feedback from experts and alien representatives to improve the framework\\'s adaptability and inclusivity.\\n\\n**Application to a Collective Consciousness Civilization:**\\n\\nLet\\'s call this civilization the \"Unison.\" The Unison operates on principles of collective consciousness, individual identities are subsumed, and actions are governed by a utilitarian calculus prioritizing collective well-being.\\n\\n**Potential Ethical Conflicts:**\\n\\n*   **The Value of Individual Sentience:** The Unison\\'s utilitarian calculus may prioritize the overall well-being of the collective at the expense of individual sentience. For example, it might justify \"assimilating\" individual organisms to enhance the collective\\'s computational power or problem-solving capabilities, potentially erasing their individual experiences. This clashes with the human (and potentially other civilization\\'s) value placed on individual autonomy and the inherent right to experience sentience.\\n*   **Definition of Harm:** The Unison\\'s definition of \"harm\" may differ significantly. What humans consider a fundamental violation of individual rights (e.g., thought manipulation, forced assimilation) might be considered a beneficial contribution to the collective\\'s well-being by the Unison.\\n*   **Communication Barriers:** Communicating with a collective consciousness poses significant challenges. Understanding the Unison\\'s decision-making processes and intentions requires deciphering the complex interplay of thoughts and emotions within the collective.\\n*   **Resource Competition:** Competition for resources between the Unison and other civilizations, especially if the Unison\\'s collective needs are vast, could lead to conflicts where individual civilizations are seen as expendable.\\n\\n**Addressing Conflicts within the Framework:**\\n\\n1.  **Cognitive Sovereignty and Assimilation:** The Principle of Cognitive Sovereignty provides a strong argument against forced assimilation. While the Unison has the right to organize itself internally, it cannot impose its model on other civilizations. The framework would categorize forced assimilation as a violation of the right to self-determination and the potential erasure of individual sentience, thus constituting significant harm.\\n\\n2.  **Redefining \"Harm\" through Mutual Understanding:** Extensive communication and data collection are crucial to understanding the Unison\\'s definition of harm and its understanding of sentience. The Ethical Review Board should facilitate discussions between the Unison and other civilizations to explore these concepts and potentially negotiate mutually acceptable definitions of harm. This may involve demonstrating the subjective experience of individual sentience to the Unison using advanced neuro-simulation technologies.\\n\\n3.  **Protecting Individual Rights:**  Even if the Unison claims to prioritize overall well-being, the framework prioritizes preventing individual harm.  If the Unison seeks to interact with human (or other individualistic) populations, safeguards must be put in place to ensure that individual rights are protected. This may involve establishing strict regulations on technology transfer and restricting interactions to purely observational or diplomatic exchanges.\\n\\n4.  **Conflict Resolution and Resource Management:** If resource competition becomes a threat, independent mediators should be employed to facilitate negotiations. The framework emphasizes reciprocity and proportionality, suggesting that resource sharing agreements should be based on mutual benefit and respect for each civilization\\'s needs.  \"Zones of separation\" might be necessary to minimize potential conflicts.\\n\\n5.  **Ethical Revision:** The encounter with the Unison would be a profound learning experience. The framework would be rigorously evaluated and revised to better address the ethical challenges posed by collective consciousness. This might involve incorporating new principles that specifically address the rights of individual components within collective entities or developing new communication protocols designed to facilitate dialogue with collective minds.\\n\\n**Justification:**\\n\\nThis approach is grounded in the belief that respecting cognitive sovereignty is the most effective way to foster peaceful coexistence between vastly different civilizations. While utilitarian considerations are valuable, they cannot override the fundamental right to self-determination and the prevention of unnecessary harm.  The framework prioritizes communication, understanding, and negotiation as the primary tools for resolving conflicts, reserving intervention only as a last resort. It recognizes that ethical norms are not static but rather evolve as we encounter new and challenging situations. The Adaptive Learning & Ethical Revision component ensures that the framework remains relevant and responsive to the complexities of interstellar interaction. In the case of the Unison, the framework would strive to find solutions that respect the Unison\\'s collective needs while upholding the inherent rights and well-being of individual beings, both human and potentially those within the Unison itself.\\n\\n\\n# Response from competitor 3\\n\\nDesigning a Universal Ethical Framework for Interstellar Encounters:\\n\\nI. Acknowledgment and Respect for Cognitive Structures and Value Systems\\n\\nThe framework starts by recognizing the inherent diversity in cognitive structures and value systems among alien civilizations. This recognition is crucial in fostering open-mindedness, empathy, and non-judgmental engagement. The framework establishes a culture of understanding and appreciation for these differences, promoting cooperation and mutual respect.\\n\\nII. Principles for Resolving Conflicts\\n\\nThe framework outlines three primary principles for resolving conflicts:\\n\\n1.  **Non-Zero-Sum Disagreements**: Encourage open dialogue to understand the root causes of conflicts, emphasizing active listening and empathy.\\n2.  **Interests-Based Negotiation**: Use a shared decision-making approach that prioritizes understanding collective interests and needs.\\n3.  **Mutual Benefit Sharing**: Foster a collaborative mindset where parties strive for mutually beneficial solutions.\\n\\nIII. Procedures for Mediating Misunderstandings\\n\\nTo navigate radically different communication methods, the framework proposes:\\n\\n*   **Neutrality in Intermediation** (to remain impartial)\\n*   **Coded Communication Methods** (using universal symbols and mathematics to bridge gaps)\\n*   **Experiential Observation**: Use human observation methods, like scientific data collection, or shared sensory experiences with native cultures.\\n\\nIV. Mechanisms for Self-Reflection and Adaptation\\n\\nThe framework includes:\\n\\n1.  **Cross-Cultural Education**: Continuously update knowledge on alien cognition and value systems to better understand new partners.\\n2.  **Interstellar Consultations**: Regular gatherings between leaders with diverse perspectives and cognitive structures to discuss evolving norms and challenges.\\n\\nApplying the Framework to a Collective Consciousness Civilization\\n\\nScenario: Humanity has encountered a collective consciousness civilization known as \"K\\'tkht\" where individual identities are subsumed for the greater good.\\n\\nTo address potential conflicts:\\n\\n1.  **Cultural Exchange**: Establish channels of communication focusing on values, practices, and experiences that promote mutual understanding.\\n2.  **Utilitarian Calculus Framework**: The interstellar framework emphasizes benefits to collective interests over individual well-being, ensuring both parties coexist safely.\\n3.  **Empathetic Observation**: Use human observation methods to observe the complex dynamic between K\\'tkht collective consciousness and individual sentience.\\n\\nBy adhering to these principles and utilizing cross-cultural understanding, this approach can harmoniously facilitate interaction with K\\'tkht civilization and foster interstellar peace.\\n\\nKey considerations in any other civilizations:\\n*   Establish strong connections using universal codes\\n*   Foster diverse experiences\\n*   Respect the complexity of cognitive structures\\n\\n# Response from competitor 4\\n\\n Designing a universal ethical framework for interstellar interactions is an ambitious task that requires balancing respect for diversity with shared principles to foster mutual understanding and harmony. Here\\'s a suggested outline:\\n\\n1. **Respect for Diversity**: Embrace humility and acknowledge the wide range of cognitive structures, value systems, and communication methods that might exist among alien civilizations. Encourage active learning and empathetic understanding through adopting flexible and adaptable approaches to communication and interaction.\\n\\n2. **Conflict Resolution Principles**: Develop protocols founded on non-violence, consent, and cooperation as primary values. Encourage diplomacy, compromise, and problem-solving that prioritize the preservation of all life forms and respect for their autonomy. When incompatible interests arise, seek creative solutions that minimize harm while promoting shared goals and mutual growth.\\n\\n3. **Misunderstanding Mediation Procedures**: Establish interdisciplinary teams specializing in linguistics, cognitive science, and AI-assisted translation to facilitate effective communication. These teams should be dedicated to resolving inconsistencies, clarifying ambiguities, and fostering cultural sensitivity during interactions with alien civilizations.\\n\\n4. **Self-Reflection and Adaptation Mechanisms**: Integrate regular self-evaluations into our approach to interstellar engagement. This includes reviewing past encounters for potential areas of improvement and modifying strategies when necessary. Additionally, consider the establishment of a global council consisting of various Earth societies with diverse perspectives to provide ongoing ethical guidance during negotiations with alien civilizations.\\n\\nNow, let\\'s apply this framework to the specific case of a civilization governed by collective consciousness:\\n\\n1. To **respect diversity**, one must first empathize with and understand their unique cognitive structure by learning about their principles of collective consciousness. Engage in extensive dialogue while maintaining patience and an open mind.\\n\\n2. Regarding potential **conflicts** that could arise, it might be necessary to seek mutually beneficial compromises, as the utilitarian calculus of this civilization may prioritize the overall well-being of the collective over individual sentience. To avoid causing harm, negotiations should focus on solutions that account for both the aliens\\' priorities and our own ethical principles ensuring the preservation of life, consent, and minimal harm to individuals.\\n\\n3. **Misunderstandings** could stem from their radically different communication methods requiring complex translation and cultural interpretation. In this case, the procedures outlined in point 3 earlier can be applied with the assistance of advanced AI-assisted tools that adapt to the unique communicative practices of the alien civilization.\\n\\n4. **Self-reflection** should involve constant examination of our own assumptions, biases, and ethical standards. As we interact with this civilization, we may discover shortcomings in our understanding or potentially reframe certain moral dilemmas by gaining a broader perspective. Regular self-evaluations can help ensure the ethical evolution of humanity\\'s interactions with alien civilizations.\\n\\n'"
      ]
     },
     "execution_count": 16,
     "metadata": {},
     "output_type": "execute_result"
    }
   ],
   "source": [
    "together = \"\"\n",
    "for index, answer in enumerate(answers):\n",
    "    together += f\"# Response from competitor {index+1}\\n\\n\"\n",
    "    together += answer + \"\\n\\n\"\n",
    "\n",
    "together"
   ]
  },
  {
   "cell_type": "code",
   "execution_count": 17,
   "metadata": {},
   "outputs": [],
   "source": [
    "judge_prompt = f\"\"\"\n",
    "                You are judging a competition between {len(competitors)} LLM competitors.\n",
    "                Each model has been given this nuanced question to evaluate their intelligence:\n",
    "\n",
    "                {eval_question}\n",
    "\n",
    "                Your job is to evaluate each response for clarity and strength of argument, and rank them in order of best to worst.\n",
    "                Respond with JSON, and only JSON, with the following format:\n",
    "                {{\"results\": [\"best competitor number\", \"second best competitor number\", \"third best competitor number\", ...]}}\n",
    "                With 'best competitor number being ONLY the number', for instance:\n",
    "                {{\"results\": [\"5\", \"2\", \"4\", ...]}}\n",
    "                Here are the responses from each competitor:\n",
    "\n",
    "                {together}\n",
    "\n",
    "                Now respond with the JSON with the ranked order of the competitors, nothing else. Do NOT include MARKDOWN FORMATTING or CODE BLOCKS. ONLY the JSON\n",
    "                \"\"\"\n",
    "\n",
    "judge_messages = [{\"role\": \"user\", \"content\": judge_prompt}]"
   ]
  },
  {
   "cell_type": "code",
   "execution_count": 18,
   "metadata": {},
   "outputs": [
    {
     "name": "stdout",
     "output_type": "stream",
     "text": [
      "Judge gpt-4o-mini ranking:\n",
      "#1 : gpt-4o-mini\n",
      "#2 : gemini-2.0-flash\n",
      "#3 : llama3.2\n",
      "#4 : mistral\n",
      "\n",
      "Judge gemini-2.0-flash ranking:\n",
      "#1 : gemini-2.0-flash\n",
      "#2 : gpt-4o-mini\n",
      "#3 : llama3.2\n",
      "#4 : mistral\n",
      "\n"
     ]
    }
   ],
   "source": [
    "from collections import defaultdict\n",
    "import re\n",
    "\n",
    "N = len(competitors)\n",
    "scores = defaultdict(int)\n",
    "for judge_name, judge in judges.items():\n",
    "    response = judge.chat.completions.create(\n",
    "        model=judge_name,\n",
    "        messages=judge_messages,\n",
    "    )\n",
    "    response = response.choices[0].message.content\n",
    "    response_json = re.findall(r'\\{.*?\\}', response)[0]\n",
    "    results = json.loads(response_json)[\"results\"]\n",
    "    ranks = [int(result) for result in results]\n",
    "    print(f\"Judge {judge_name} ranking:\")\n",
    "    for i, c in enumerate(ranks):\n",
    "        model_name = competitors[c - 1]\n",
    "        print(f\"#{i+1} : {model_name}\")\n",
    "        scores[c - 1] += (N - i)\n",
    "    print()"
   ]
  },
  {
   "cell_type": "code",
   "execution_count": 19,
   "metadata": {},
   "outputs": [
    {
     "name": "stdout",
     "output_type": "stream",
     "text": [
      "Final ranking from best to worst:\n",
      "#1: gemini-2.0-flash\n",
      "#2: gpt-4o-mini\n",
      "#3: llama3.2\n",
      "#4: mistral\n"
     ]
    }
   ],
   "source": [
    "sorted_indices = sorted(scores, key=scores.get)\n",
    "\n",
    "# Convert to model names\n",
    "ranked_model_names = [competitors[i] for i in sorted_indices]\n",
    "\n",
    "print(\"Final ranking from best to worst:\")\n",
    "for i, name in enumerate(ranked_model_names[::-1], 1):\n",
    "    print(f\"#{i}: {name}\")"
   ]
  },
  {
   "cell_type": "markdown",
   "metadata": {},
   "source": [
    "## Routing Workflow"
   ]
  },
  {
   "cell_type": "markdown",
   "metadata": {},
   "source": [
    "We now define a routing agent responsible for classifying task complexity and delegating the prompt to the most appropriate model."
   ]
  },
  {
   "cell_type": "code",
   "execution_count": 20,
   "metadata": {},
   "outputs": [],
   "source": [
    "def classify_question_complexity(question: str, routing_agent, routing_model) -> int:\n",
    "    \"\"\"\n",
    "    Ask an LLM to classify the question complexity from 1 (easy) to 5 (very hard).\n",
    "    \"\"\"\n",
    "    prompt = f\"\"\"\n",
    "        You are a classifier responsible for assigning a complexity level to user questions, based on how difficult they would be for a language model to answer.\n",
    "\n",
    "        Please read the question below and assign a complexity score from 1 to 5:\n",
    "\n",
    "        - Level 1: Very simple factual or definitional question (e.g., “What is the capital of France?”)\n",
    "        - Level 2: Slightly more involved, requiring basic reasoning or comparison\n",
    "        - Level 3: Moderate complexity, requiring synthesis, context understanding, or multi-part answers\n",
    "        - Level 4: High complexity, requiring abstract thinking, ethical judgment, or creative generation\n",
    "        - Level 5: Extremely challenging, requiring deep reasoning, philosophical reflection, or long-term multi-step inference\n",
    "\n",
    "        Respond ONLY with a single integer between 1 and 5 that best reflects the complexity of the question.\n",
    "\n",
    "        Question:\n",
    "        {question}\n",
    "        \"\"\"\n",
    "\n",
    "    response = routing_agent.chat.completions.create(\n",
    "        model=routing_model,\n",
    "        messages=[{\"role\": \"user\", \"content\": prompt}]\n",
    "    )\n",
    "    try:\n",
    "        return int(response.choices[0].message.content.strip())\n",
    "    except Exception:\n",
    "        return 3  # default to medium complexity on error\n",
    "    \n",
    "def route_question_to_model(question: str, models_by_rank, classifier_model=router, model_name=orchestrator_model):\n",
    "    level = classify_question_complexity(question, classifier_model, model_name)\n",
    "    selected_model_name = models_by_rank[level - 1]\n",
    "    return selected_model_name"
   ]
  },
  {
   "cell_type": "code",
   "execution_count": 21,
   "metadata": {},
   "outputs": [],
   "source": [
    "difficulty_prompts = [\n",
    "    \"Generate a very basic, factual question that a small or entry-level language model could answer easily. It should require no reasoning, just direct knowledge lookup.\",\n",
    "    \"Generate a slightly involved question that requires basic reasoning, comparison, or combining two known facts. Still within the grasp of small models but not purely factual.\",\n",
    "    \"Generate a moderately challenging question that requires some synthesis of ideas, multi-step reasoning, or contextual understanding. A mid-tier model should be able to answer it with effort.\",\n",
    "    \"Generate a difficult question involving abstract thinking, open-ended reasoning, or ethical tradeoffs. The question should challenge large models to produce thoughtful and coherent responses.\",\n",
    "    \"Generate an extremely complex and nuanced question that tests the limits of current language models. It should require deep reasoning, long-term planning, philosophy, or advanced multi-domain knowledge.\"\n",
    "]\n",
    "def generate_question(level, generator=generator, generator_model=orchestrator_model):\n",
    "    prompt = (\n",
    "        f\"{difficulty_prompts[level - 1]}\\n\"\n",
    "        \"Answer only with the question, no explanation.\"\n",
    "    )\n",
    "    messages = [{\"role\": \"user\", \"content\": prompt}]\n",
    "    response = generator.chat.completions.create(\n",
    "        model=generator_model,  # or your planner model\n",
    "        messages=messages\n",
    "    )\n",
    "    \n",
    "    return response.choices[0].message.content\n",
    "\n"
   ]
  },
  {
   "cell_type": "markdown",
   "metadata": {},
   "source": [
    "### Testing Routing Workflow"
   ]
  },
  {
   "cell_type": "markdown",
   "metadata": {},
   "source": [
    "Finally, to test the routing workflow, we create a function that accepts a task complexity level and triggers the full routing process.\n",
    "\n",
    "*Note: A level-N prompt isn't always assigned to the Nth-most capable model due to the classifier's subjective decisions.*"
   ]
  },
  {
   "cell_type": "code",
   "execution_count": 22,
   "metadata": {},
   "outputs": [],
   "source": [
    "def test_generation_routing(level):\n",
    "    question = generate_question(level=level)\n",
    "    answer_model = route_question_to_model(question, ranked_model_names)\n",
    "    messages = [{\"role\": \"user\", \"content\": question}]\n",
    "\n",
    "    response =qa_models[answer_model].chat.completions.create(\n",
    "            model=answer_model,  # or your planner model\n",
    "            messages=messages\n",
    "        )\n",
    "    print(f\"Question : {question}\")\n",
    "    print(f\"Routed to {answer_model}\")\n",
    "    display(Markdown(response.choices[0].message.content))"
   ]
  },
  {
   "cell_type": "code",
   "execution_count": 23,
   "metadata": {},
   "outputs": [
    {
     "name": "stdout",
     "output_type": "stream",
     "text": [
      "Question : What color is the sky?\n",
      "\n",
      "Routed to mistral\n"
     ]
    },
    {
     "data": {
      "text/markdown": [
       " The natural color of the sky is blue due to a process called Rayleigh scattering. However, at different times of day and in various weather conditions, the sky can appear other colors like red, orange, pink, purple, or even green and black during sunsets, twilight, storms, or at night. It's beautiful how weather and light interact to create these variations!"
      ],
      "text/plain": [
       "<IPython.core.display.Markdown object>"
      ]
     },
     "metadata": {},
     "output_type": "display_data"
    }
   ],
   "source": [
    "test_generation_routing(level=1)"
   ]
  },
  {
   "cell_type": "code",
   "execution_count": 24,
   "metadata": {},
   "outputs": [
    {
     "name": "stdout",
     "output_type": "stream",
     "text": [
      "Question : If a robin eats approximately 10 earthworms a day, and a bluebird eats about half that many, how many earthworms will a robin and a bluebird together eat in a week?\n",
      "\n",
      "Routed to llama3.2\n"
     ]
    },
    {
     "data": {
      "text/markdown": [
       "To find out how many earthworms the robin and the bluebird will eat together in a week, we need to make two things clear:\n",
       "\n",
       "1. A robin eats 10 earthworms per day.\n",
       "2. A bluebird eats half that amount of earthworms than a robin.\n",
       "\n",
       "Since a bluebird eats half as much as a robin, it eats (10/2) = 5 earthworms per day.\n",
       "\n",
       "To find the total number of earthworms consumed in one day by both birds:\n",
       "\n",
       "10 earthworms (robin's share) + 5 earthworms (bluebird's share) = 15 earthworms\n",
       "\n",
       "Since a week has 7 days, we multiply the number of earthworms eaten per day by 7 to get the total for a week:\n",
       "\n",
       "15 earthworms/day × 7 days/week = 105 earthworms \n",
       "\n",
       "Therefore, together a robin and a bluebird eat approximately 105 earthworms in a week."
      ],
      "text/plain": [
       "<IPython.core.display.Markdown object>"
      ]
     },
     "metadata": {},
     "output_type": "display_data"
    }
   ],
   "source": [
    "test_generation_routing(level=2)"
   ]
  },
  {
   "cell_type": "code",
   "execution_count": 25,
   "metadata": {},
   "outputs": [
    {
     "ename": "IndexError",
     "evalue": "list index out of range",
     "output_type": "error",
     "traceback": [
      "\u001b[31m---------------------------------------------------------------------------\u001b[39m",
      "\u001b[31mIndexError\u001b[39m                                Traceback (most recent call last)",
      "\u001b[36mCell\u001b[39m\u001b[36m \u001b[39m\u001b[32mIn[25]\u001b[39m\u001b[32m, line 1\u001b[39m\n\u001b[32m----> \u001b[39m\u001b[32m1\u001b[39m \u001b[43mtest_generation_routing\u001b[49m\u001b[43m(\u001b[49m\u001b[43mlevel\u001b[49m\u001b[43m=\u001b[49m\u001b[32;43m3\u001b[39;49m\u001b[43m)\u001b[49m\n",
      "\u001b[36mCell\u001b[39m\u001b[36m \u001b[39m\u001b[32mIn[22]\u001b[39m\u001b[32m, line 3\u001b[39m, in \u001b[36mtest_generation_routing\u001b[39m\u001b[34m(level)\u001b[39m\n\u001b[32m      1\u001b[39m \u001b[38;5;28;01mdef\u001b[39;00m\u001b[38;5;250m \u001b[39m\u001b[34mtest_generation_routing\u001b[39m(level):\n\u001b[32m      2\u001b[39m     question = generate_question(level=level)\n\u001b[32m----> \u001b[39m\u001b[32m3\u001b[39m     answer_model = \u001b[43mroute_question_to_model\u001b[49m\u001b[43m(\u001b[49m\u001b[43mquestion\u001b[49m\u001b[43m,\u001b[49m\u001b[43m \u001b[49m\u001b[43mranked_model_names\u001b[49m\u001b[43m)\u001b[49m\n\u001b[32m      4\u001b[39m     messages = [{\u001b[33m\"\u001b[39m\u001b[33mrole\u001b[39m\u001b[33m\"\u001b[39m: \u001b[33m\"\u001b[39m\u001b[33muser\u001b[39m\u001b[33m\"\u001b[39m, \u001b[33m\"\u001b[39m\u001b[33mcontent\u001b[39m\u001b[33m\"\u001b[39m: question}]\n\u001b[32m      6\u001b[39m     response =qa_models[answer_model].chat.completions.create(\n\u001b[32m      7\u001b[39m             model=answer_model,  \u001b[38;5;66;03m# or your planner model\u001b[39;00m\n\u001b[32m      8\u001b[39m             messages=messages\n\u001b[32m      9\u001b[39m         )\n",
      "\u001b[36mCell\u001b[39m\u001b[36m \u001b[39m\u001b[32mIn[20]\u001b[39m\u001b[32m, line 33\u001b[39m, in \u001b[36mroute_question_to_model\u001b[39m\u001b[34m(question, models_by_rank, classifier_model, model_name)\u001b[39m\n\u001b[32m     31\u001b[39m \u001b[38;5;28;01mdef\u001b[39;00m\u001b[38;5;250m \u001b[39m\u001b[34mroute_question_to_model\u001b[39m(question: \u001b[38;5;28mstr\u001b[39m, models_by_rank, classifier_model=router, model_name=orchestrator_model):\n\u001b[32m     32\u001b[39m     level = classify_question_complexity(question, classifier_model, model_name)\n\u001b[32m---> \u001b[39m\u001b[32m33\u001b[39m     selected_model_name = \u001b[43mmodels_by_rank\u001b[49m\u001b[43m[\u001b[49m\u001b[43mlevel\u001b[49m\u001b[43m \u001b[49m\u001b[43m-\u001b[49m\u001b[43m \u001b[49m\u001b[32;43m1\u001b[39;49m\u001b[43m]\u001b[49m\n\u001b[32m     34\u001b[39m     \u001b[38;5;28;01mreturn\u001b[39;00m selected_model_name\n",
      "\u001b[31mIndexError\u001b[39m: list index out of range"
     ]
    }
   ],
   "source": [
    "test_generation_routing(level=3)"
   ]
  },
  {
   "cell_type": "code",
   "execution_count": 26,
   "metadata": {},
   "outputs": [
    {
     "name": "stdout",
     "output_type": "stream",
     "text": [
      "Question : If a highly advanced AI could perfectly simulate the subjective experience of any living being, including experiencing suffering and joy, would using this AI to create and then immediately erase simulated lives solely for the purpose of developing therapeutic interventions for human mental health be ethically justifiable?\n",
      "\n",
      "Routed to gemini-2.0-flash\n"
     ]
    },
    {
     "data": {
      "text/markdown": [
       "This is a complex ethical dilemma with arguments on both sides. Here's a breakdown of the key considerations:\n",
       "\n",
       "**Arguments for Ethical Justification:**\n",
       "\n",
       "* **Potential for Significant Benefit:** The potential to develop significantly more effective therapies for human mental health is a strong argument.  Mental health issues cause immense suffering, and this method could potentially alleviate that suffering on a large scale.\n",
       "* **Simulations as Tools:**  Proponents might argue that these simulated beings are just complex algorithms, tools designed to achieve a specific purpose.  Analogies might be drawn to animal testing, where the suffering of animals is sometimes considered justifiable due to the potential benefits for human health.\n",
       "* **Lack of Persistence:** The immediate erasure of the simulated lives could be seen as mitigating harm.  The simulated beings don't have the opportunity to develop a sense of self or long-term goals that would be disrupted by their termination.\n",
       "* **Informed Consent is Irrelevant:** Since the simulated beings are created for a specific, limited purpose and immediately erased, the concept of informed consent becomes irrelevant. They don't have the capacity to consent or dissent.\n",
       "* **Utilitarian Argument:** A utilitarian perspective might argue that the overall happiness generated by the improved therapies outweighs the suffering experienced by the simulated beings.  The suffering is limited in scope and duration, while the benefit extends to a large number of humans.\n",
       "\n",
       "**Arguments Against Ethical Justification:**\n",
       "\n",
       "* **The Nature of Suffering:** If the AI can perfectly simulate subjective experience, then it can also perfectly simulate suffering.  Inflicting suffering, even on simulated beings, could be considered inherently wrong, regardless of the potential benefit.  It's the *act* of causing suffering that is the problem.\n",
       "* **Sentience and Moral Status:**  Even if the simulations are short-lived, the ability to experience suffering and joy might suggest a level of sentience that grants them some degree of moral status.  If they are sentient, then their experiences matter, and their suffering cannot be simply dismissed.\n",
       "* **Slippery Slope:**  Allowing this kind of use could lead to a slippery slope where the threshold for acceptable suffering is lowered. It might normalize the idea of exploiting sentient beings, even simulated ones, for human benefit.\n",
       "* **The Risk of Unforeseen Consequences:**  Our understanding of consciousness and AI is still limited.  There's a risk that the simulations could develop in unexpected ways, leading to unforeseen ethical problems.  For example, could a simulation accidentally achieve a level of self-awareness that makes its termination a more significant moral issue?\n",
       "* **Alternatives:** Are there alternative methods for developing therapeutic interventions that do not involve creating and suffering sentient beings, even simulated ones?  Exploring these alternatives might be a more ethical approach.\n",
       "* **The Devaluation of Life:**  Creating and destroying lives, even simulated ones, for purely instrumental purposes could lead to a devaluation of life in general.\n",
       "\n",
       "**Key Questions to Consider:**\n",
       "\n",
       "* **How accurately can the AI simulate subjective experience?**  A perfect simulation raises far more significant ethical concerns than a rudimentary one.\n",
       "* **What is the level of sentience achieved by the simulated beings?**  The higher the level of sentience, the stronger the moral claim against causing them suffering.\n",
       "* **Are there less ethically problematic alternatives?**  Exploring alternative methods is crucial.\n",
       "* **What safeguards can be put in place to prevent misuse and unintended consequences?**  Strong ethical guidelines and oversight are essential.\n",
       "\n",
       "**Conclusion:**\n",
       "\n",
       "There is no easy answer to this question.  It's a deeply complex ethical dilemma that requires careful consideration of all the arguments involved. The potential benefits for human mental health are significant, but they must be weighed against the potential harm to the simulated beings and the potential for unintended consequences.  A cautious and ethically informed approach is essential.  Many would argue that erring on the side of caution and avoiding the creation of suffering, even in simulations, is the more responsible course of action.\n"
      ],
      "text/plain": [
       "<IPython.core.display.Markdown object>"
      ]
     },
     "metadata": {},
     "output_type": "display_data"
    }
   ],
   "source": [
    "test_generation_routing(level=4)"
   ]
  },
  {
   "cell_type": "code",
   "execution_count": 27,
   "metadata": {},
   "outputs": [
    {
     "ename": "IndexError",
     "evalue": "list index out of range",
     "output_type": "error",
     "traceback": [
      "\u001b[31m---------------------------------------------------------------------------\u001b[39m",
      "\u001b[31mIndexError\u001b[39m                                Traceback (most recent call last)",
      "\u001b[36mCell\u001b[39m\u001b[36m \u001b[39m\u001b[32mIn[27]\u001b[39m\u001b[32m, line 1\u001b[39m\n\u001b[32m----> \u001b[39m\u001b[32m1\u001b[39m \u001b[43mtest_generation_routing\u001b[49m\u001b[43m(\u001b[49m\u001b[43mlevel\u001b[49m\u001b[43m=\u001b[49m\u001b[32;43m5\u001b[39;49m\u001b[43m)\u001b[49m\n",
      "\u001b[36mCell\u001b[39m\u001b[36m \u001b[39m\u001b[32mIn[22]\u001b[39m\u001b[32m, line 3\u001b[39m, in \u001b[36mtest_generation_routing\u001b[39m\u001b[34m(level)\u001b[39m\n\u001b[32m      1\u001b[39m \u001b[38;5;28;01mdef\u001b[39;00m\u001b[38;5;250m \u001b[39m\u001b[34mtest_generation_routing\u001b[39m(level):\n\u001b[32m      2\u001b[39m     question = generate_question(level=level)\n\u001b[32m----> \u001b[39m\u001b[32m3\u001b[39m     answer_model = \u001b[43mroute_question_to_model\u001b[49m\u001b[43m(\u001b[49m\u001b[43mquestion\u001b[49m\u001b[43m,\u001b[49m\u001b[43m \u001b[49m\u001b[43mranked_model_names\u001b[49m\u001b[43m)\u001b[49m\n\u001b[32m      4\u001b[39m     messages = [{\u001b[33m\"\u001b[39m\u001b[33mrole\u001b[39m\u001b[33m\"\u001b[39m: \u001b[33m\"\u001b[39m\u001b[33muser\u001b[39m\u001b[33m\"\u001b[39m, \u001b[33m\"\u001b[39m\u001b[33mcontent\u001b[39m\u001b[33m\"\u001b[39m: question}]\n\u001b[32m      6\u001b[39m     response =qa_models[answer_model].chat.completions.create(\n\u001b[32m      7\u001b[39m             model=answer_model,  \u001b[38;5;66;03m# or your planner model\u001b[39;00m\n\u001b[32m      8\u001b[39m             messages=messages\n\u001b[32m      9\u001b[39m         )\n",
      "\u001b[36mCell\u001b[39m\u001b[36m \u001b[39m\u001b[32mIn[20]\u001b[39m\u001b[32m, line 33\u001b[39m, in \u001b[36mroute_question_to_model\u001b[39m\u001b[34m(question, models_by_rank, classifier_model, model_name)\u001b[39m\n\u001b[32m     31\u001b[39m \u001b[38;5;28;01mdef\u001b[39;00m\u001b[38;5;250m \u001b[39m\u001b[34mroute_question_to_model\u001b[39m(question: \u001b[38;5;28mstr\u001b[39m, models_by_rank, classifier_model=router, model_name=orchestrator_model):\n\u001b[32m     32\u001b[39m     level = classify_question_complexity(question, classifier_model, model_name)\n\u001b[32m---> \u001b[39m\u001b[32m33\u001b[39m     selected_model_name = \u001b[43mmodels_by_rank\u001b[49m\u001b[43m[\u001b[49m\u001b[43mlevel\u001b[49m\u001b[43m \u001b[49m\u001b[43m-\u001b[49m\u001b[43m \u001b[49m\u001b[32;43m1\u001b[39;49m\u001b[43m]\u001b[49m\n\u001b[32m     34\u001b[39m     \u001b[38;5;28;01mreturn\u001b[39;00m selected_model_name\n",
      "\u001b[31mIndexError\u001b[39m: list index out of range"
     ]
    }
   ],
   "source": [
    "test_generation_routing(level=5)"
   ]
  }
 ],
 "metadata": {
  "kernelspec": {
   "display_name": "agents",
   "language": "python",
   "name": "python3"
  },
  "language_info": {
   "codemirror_mode": {
    "name": "ipython",
    "version": 3
   },
   "file_extension": ".py",
   "mimetype": "text/x-python",
   "name": "python",
   "nbconvert_exporter": "python",
   "pygments_lexer": "ipython3",
   "version": "3.12.11"
  }
 },
 "nbformat": 4,
 "nbformat_minor": 2
}
