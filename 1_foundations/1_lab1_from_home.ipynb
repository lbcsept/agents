{
 "cells": [
  {
   "cell_type": "markdown",
   "metadata": {},
   "source": [
    "# Welcome to the start of your adventure in Agentic AI"
   ]
  },
  {
   "cell_type": "markdown",
   "metadata": {},
   "source": [
    "<table style=\"margin: 0; text-align: left; width:100%\">\n",
    "    <tr>\n",
    "        <td style=\"width: 150px; height: 150px; vertical-align: middle;\">\n",
    "            <img src=\"../assets/stop.png\" width=\"150\" height=\"150\" style=\"display: block;\" />\n",
    "        </td>\n",
    "        <td>\n",
    "            <h2 style=\"color:#ff7800;\">Are you ready for action??</h2>\n",
    "            <span style=\"color:#ff7800;\">Have you completed all the setup steps in the <a href=\"../setup/\">setup</a> folder?<br/>\n",
    "            Have you read the <a href=\"../README.md\">README</a>? Many common questions are answered here!<br/>\n",
    "            Have you checked out the guides in the <a href=\"../guides/01_intro.ipynb\">guides</a> folder?<br/>\n",
    "            Well in that case, you're ready!!\n",
    "            </span>\n",
    "        </td>\n",
    "    </tr>\n",
    "</table>"
   ]
  },
  {
   "cell_type": "markdown",
   "metadata": {},
   "source": [
    "<table style=\"margin: 0; text-align: left; width:100%\">\n",
    "    <tr>\n",
    "        <td style=\"width: 150px; height: 150px; vertical-align: middle;\">\n",
    "            <img src=\"../assets/tools.png\" width=\"150\" height=\"150\" style=\"display: block;\" />\n",
    "        </td>\n",
    "        <td>\n",
    "            <h2 style=\"color:#00bfff;\">This code is a live resource - keep an eye out for my updates</h2>\n",
    "            <span style=\"color:#00bfff;\">I push updates regularly. As people ask questions or have problems, I add more examples and improve explanations. As a result, the code below might not be identical to the videos, as I've added more steps and better comments. Consider this like an interactive book that accompanies the lectures.<br/><br/>\n",
    "            I try to send emails regularly with important updates related to the course. You can find this in the 'Announcements' section of Udemy in the left sidebar. You can also choose to receive my emails via your Notification Settings in Udemy. I'm respectful of your inbox and always try to add value with my emails!\n",
    "            </span>\n",
    "        </td>\n",
    "    </tr>\n",
    "</table>"
   ]
  },
  {
   "cell_type": "markdown",
   "metadata": {},
   "source": [
    "### And please do remember to contact me if I can help\n",
    "\n",
    "And I love to connect: https://www.linkedin.com/in/eddonner/\n",
    "\n",
    "\n",
    "### New to Notebooks like this one? Head over to the guides folder!\n",
    "\n",
    "Just to check you've already added the Python and Jupyter extensions to Cursor, if not already installed:\n",
    "- Open extensions (View >> extensions)\n",
    "- Search for python, and when the results show, click on the ms-python one, and Install it if not already installed\n",
    "- Search for jupyter, and when the results show, click on the Microsoft one, and Install it if not already installed  \n",
    "Then View >> Explorer to bring back the File Explorer.\n",
    "\n",
    "And then:\n",
    "1. Click where it says \"Select Kernel\" near the top right, and select the option called `.venv (Python 3.12.9)` or similar, which should be the first choice or the most prominent choice. You may need to choose \"Python Environments\" first.\n",
    "2. Click in each \"cell\" below, starting with the cell immediately below this text, and press Shift+Enter to run\n",
    "3. Enjoy!\n",
    "\n",
    "After you click \"Select Kernel\", if there is no option like `.venv (Python 3.12.9)` then please do the following:  \n",
    "1. On Mac: From the Cursor menu, choose Settings >> VS Code Settings (NOTE: be sure to select `VSCode Settings` not `Cursor Settings`);  \n",
    "On Windows PC: From the File menu, choose Preferences >> VS Code Settings(NOTE: be sure to select `VSCode Settings` not `Cursor Settings`)  \n",
    "2. In the Settings search bar, type \"venv\"  \n",
    "3. In the field \"Path to folder with a list of Virtual Environments\" put the path to the project root, like C:\\Users\\username\\projects\\agents (on a Windows PC) or /Users/username/projects/agents (on Mac or Linux).  \n",
    "And then try again.\n",
    "\n",
    "Having problems with missing Python versions in that list? Have you ever used Anaconda before? It might be interferring. Quit Cursor, bring up a new command line, and make sure that your Anaconda environment is deactivated:    \n",
    "`conda deactivate`  \n",
    "And if you still have any problems with conda and python versions, it's possible that you will need to run this too:  \n",
    "`conda config --set auto_activate_base false`  \n",
    "and then from within the Agents directory, you should be able to run `uv python list` and see the Python 3.12 version."
   ]
  },
  {
   "cell_type": "code",
   "execution_count": 1,
   "metadata": {},
   "outputs": [],
   "source": [
    "# First let's do an import. If you get an Import Error, double check that your Kernel is correct..\n",
    "\n",
    "from dotenv import load_dotenv\n"
   ]
  },
  {
   "cell_type": "code",
   "execution_count": 2,
   "metadata": {},
   "outputs": [
    {
     "data": {
      "text/plain": [
       "True"
      ]
     },
     "execution_count": 2,
     "metadata": {},
     "output_type": "execute_result"
    }
   ],
   "source": [
    "# Next it's time to load the API keys into environment variables\n",
    "# If this returns false, see the next cell!\n",
    "\n",
    "load_dotenv(override=True)"
   ]
  },
  {
   "cell_type": "markdown",
   "metadata": {},
   "source": [
    "### Wait, did that just output `False`??\n",
    "\n",
    "If so, the most common reason is that you didn't save your `.env` file after adding the key! Be sure to have saved.\n",
    "\n",
    "Also, make sure the `.env` file is named precisely `.env` and is in the project root directory (`agents`)\n",
    "\n",
    "By the way, your `.env` file should have a stop symbol next to it in Cursor on the left, and that's actually a good thing: that's Cursor saying to you, \"hey, I realize this is a file filled with secret information, and I'm not going to send it to an external AI to suggest changes, because your keys should not be shown to anyone else.\""
   ]
  },
  {
   "cell_type": "markdown",
   "metadata": {},
   "source": [
    "<table style=\"margin: 0; text-align: left; width:100%\">\n",
    "    <tr>\n",
    "        <td style=\"width: 150px; height: 150px; vertical-align: middle;\">\n",
    "            <img src=\"../assets/stop.png\" width=\"150\" height=\"150\" style=\"display: block;\" />\n",
    "        </td>\n",
    "        <td>\n",
    "            <h2 style=\"color:#ff7800;\">Final reminders</h2>\n",
    "            <span style=\"color:#ff7800;\">1. If you're not confident about Environment Variables or Web Endpoints / APIs, please read Topics 3 and 5 in this <a href=\"../guides/04_technical_foundations.ipynb\">technical foundations guide</a>.<br/>\n",
    "            2. If you want to use AIs other than OpenAI, like Gemini, DeepSeek or Ollama (free), please see the first section in this <a href=\"../guides/09_ai_apis_and_ollama.ipynb\">AI APIs guide</a>.<br/>\n",
    "            3. If you ever get a Name Error in Python, you can always fix it immediately; see the last section of this <a href=\"../guides/06_python_foundations.ipynb\">Python Foundations guide</a> and follow both tutorials and exercises.<br/>\n",
    "            </span>\n",
    "        </td>\n",
    "    </tr>\n",
    "</table>"
   ]
  },
  {
   "cell_type": "code",
   "execution_count": 3,
   "metadata": {},
   "outputs": [
    {
     "name": "stdout",
     "output_type": "stream",
     "text": [
      "OpenAI API Key exists and begins sk-proj-\n"
     ]
    }
   ],
   "source": [
    "# Check the key - if you're not using OpenAI, check whichever key you're using! Ollama doesn't need a key.\n",
    "\n",
    "import os\n",
    "openai_api_key = os.getenv('OPENAI_API_KEY')\n",
    "\n",
    "if openai_api_key:\n",
    "    print(f\"OpenAI API Key exists and begins {openai_api_key[:8]}\")\n",
    "else:\n",
    "    print(\"OpenAI API Key not set - please head to the troubleshooting guide in the setup folder\")\n",
    "    \n"
   ]
  },
  {
   "cell_type": "code",
   "execution_count": 4,
   "metadata": {},
   "outputs": [],
   "source": [
    "# And now - the all important import statement\n",
    "# If you get an import error - head over to troubleshooting in the Setup folder\n",
    "# Even for other LLM providers like Gemini, you still use this OpenAI import - see Guide 9 for why\n",
    "\n",
    "from openai import OpenAI"
   ]
  },
  {
   "cell_type": "code",
   "execution_count": 5,
   "metadata": {},
   "outputs": [],
   "source": [
    "# And now we'll create an instance of the OpenAI class\n",
    "# If you're not sure what it means to create an instance of a class - head over to the guides folder (guide 6)!\n",
    "# If you get a NameError - head over to the guides folder (guide 6)to learn about NameErrors - always instantly fixable\n",
    "# If you're not using OpenAI, you just need to slightly modify this - precise instructions are in the AI APIs guide (guide 9)\n",
    "\n",
    "openai = OpenAI()"
   ]
  },
  {
   "cell_type": "code",
   "execution_count": 6,
   "metadata": {},
   "outputs": [],
   "source": [
    "# Create a list of messages in the familiar OpenAI format\n",
    "\n",
    "messages = [{\"role\": \"user\", \"content\": \"What is 2+2?\"}]"
   ]
  },
  {
   "cell_type": "code",
   "execution_count": 7,
   "metadata": {},
   "outputs": [
    {
     "name": "stdout",
     "output_type": "stream",
     "text": [
      "2 + 2 equals 4.\n"
     ]
    }
   ],
   "source": [
    "# And now call it! Any problems, head to the troubleshooting guide\n",
    "# This uses GPT 4.1 nano, the incredibly cheap model\n",
    "# The APIs guide (guide 9) has exact instructions for using even cheaper or free alternatives to OpenAI\n",
    "# If you get a NameError, head to the guides folder (guide 6) to learn about NameErrors - always instantly fixable\n",
    "\n",
    "response = openai.chat.completions.create(\n",
    "    model=\"gpt-4.1-nano\",\n",
    "    messages=messages\n",
    ")\n",
    "\n",
    "print(response.choices[0].message.content)\n"
   ]
  },
  {
   "cell_type": "code",
   "execution_count": 21,
   "metadata": {},
   "outputs": [],
   "source": [
    "# And now - let's ask for a question:\n",
    "\n",
    "question = \"Please propose a hard, challenging question to assess someone's IQ. Respond only with the question.\"\n",
    "messages = [{\"role\": \"user\", \"content\": question}]\n"
   ]
  },
  {
   "cell_type": "code",
   "execution_count": 22,
   "metadata": {},
   "outputs": [
    {
     "name": "stdout",
     "output_type": "stream",
     "text": [
      "A bat and a ball cost $1.10 in total. The bat costs $1.00 more than the ball. How much does the ball cost?\n"
     ]
    }
   ],
   "source": [
    "# ask it - this uses GPT 4.1 mini, still cheap but more powerful than nano\n",
    "\n",
    "response = openai.chat.completions.create(\n",
    "    model=\"gpt-4.1-mini\",\n",
    "    messages=messages\n",
    ")\n",
    "\n",
    "question = response.choices[0].message.content\n",
    "\n",
    "print(question)\n"
   ]
  },
  {
   "cell_type": "code",
   "execution_count": 23,
   "metadata": {},
   "outputs": [],
   "source": [
    "# form a new messages list\n",
    "messages = [{\"role\": \"user\", \"content\": question}]\n"
   ]
  },
  {
   "cell_type": "code",
   "execution_count": 24,
   "metadata": {},
   "outputs": [
    {
     "name": "stdout",
     "output_type": "stream",
     "text": [
      "Let's denote the cost of the ball as \\( x \\).\n",
      "\n",
      "According to the problem:\n",
      "- The bat costs $1.00 more than the ball, so the bat costs \\( x + 1.00 \\).\n",
      "- The total cost of the bat and ball together is $1.10.\n",
      "\n",
      "Set up the equation:\n",
      "\\[\n",
      "x + (x + 1.00) = 1.10\n",
      "\\]\n",
      "\n",
      "Simplify:\n",
      "\\[\n",
      "2x + 1.00 = 1.10\n",
      "\\]\n",
      "\n",
      "Subtract 1.00 from both sides:\n",
      "\\[\n",
      "2x = 0.10\n",
      "\\]\n",
      "\n",
      "Divide both sides by 2:\n",
      "\\[\n",
      "x = 0.05\n",
      "\\]\n",
      "\n",
      "**Answer:** The ball costs **$0.05**.\n"
     ]
    }
   ],
   "source": [
    "# Ask it again\n",
    "\n",
    "response = openai.chat.completions.create(\n",
    "    model=\"gpt-4.1-mini\",\n",
    "    messages=messages\n",
    ")\n",
    "\n",
    "answer = response.choices[0].message.content\n",
    "print(answer)\n"
   ]
  },
  {
   "cell_type": "code",
   "execution_count": 25,
   "metadata": {},
   "outputs": [
    {
     "data": {
      "text/markdown": [
       "Let's denote the cost of the ball as \\( x \\).\n",
       "\n",
       "According to the problem:\n",
       "- The bat costs $1.00 more than the ball, so the bat costs \\( x + 1.00 \\).\n",
       "- The total cost of the bat and ball together is $1.10.\n",
       "\n",
       "Set up the equation:\n",
       "\\[\n",
       "x + (x + 1.00) = 1.10\n",
       "\\]\n",
       "\n",
       "Simplify:\n",
       "\\[\n",
       "2x + 1.00 = 1.10\n",
       "\\]\n",
       "\n",
       "Subtract 1.00 from both sides:\n",
       "\\[\n",
       "2x = 0.10\n",
       "\\]\n",
       "\n",
       "Divide both sides by 2:\n",
       "\\[\n",
       "x = 0.05\n",
       "\\]\n",
       "\n",
       "**Answer:** The ball costs **$0.05**."
      ],
      "text/plain": [
       "<IPython.core.display.Markdown object>"
      ]
     },
     "metadata": {},
     "output_type": "display_data"
    }
   ],
   "source": [
    "from IPython.display import Markdown, display\n",
    "\n",
    "display(Markdown(answer))\n",
    "\n"
   ]
  },
  {
   "cell_type": "markdown",
   "metadata": {},
   "source": [
    "# Congratulations!\n",
    "\n",
    "That was a small, simple step in the direction of Agentic AI, with your new environment!\n",
    "\n",
    "Next time things get more interesting..."
   ]
  },
  {
   "cell_type": "markdown",
   "metadata": {},
   "source": [
    "<table style=\"margin: 0; text-align: left; width:100%\">\n",
    "    <tr>\n",
    "        <td style=\"width: 150px; height: 150px; vertical-align: middle;\">\n",
    "            <img src=\"../assets/exercise.png\" width=\"150\" height=\"150\" style=\"display: block;\" />\n",
    "        </td>\n",
    "        <td>\n",
    "            <h2 style=\"color:#ff7800;\">Exercise</h2>\n",
    "            <span style=\"color:#ff7800;\">Now try this commercial application:<br/>\n",
    "            First ask the LLM to pick a business area that might be worth exploring for an Agentic AI opportunity.<br/>\n",
    "            Then ask the LLM to present a pain-point in that industry - something challenging that might be ripe for an Agentic solution.<br/>\n",
    "            Finally have 3 third LLM call propose the Agentic AI solution. <br/>\n",
    "            We will cover this at up-coming labs, so don't worry if you're unsure.. just give it a try!\n",
    "            </span>\n",
    "        </td>\n",
    "    </tr>\n",
    "</table>"
   ]
  },
  {
   "cell_type": "code",
   "execution_count": 42,
   "metadata": {},
   "outputs": [],
   "source": [
    "# First create the messages:\n",
    "model = \"gpt-4.1-mini\"\n",
    "role = \"user\"\n",
    "\n",
    "messages = [{\"role\": role , \n",
    "             \"content\": \n",
    "             \"Pick a business area, not related to health, that might be worth exploring for an Agentic AI opportunity. Please answser just with few words, don't enter in the details\"}]\n",
    "\n",
    "# Then make the first call:\n",
    "\n",
    "response = openai.chat.completions.create(\n",
    "     model=model, \n",
    "     messages=messages)\n",
    "\n",
    "# Then read the business idea:\n",
    "\n",
    "business_idea = response.choices[0].message.content\n",
    "\n",
    "# And repeat! In the next message, include the business idea within the message\n",
    "\n",
    "messages_pp = [{\"role\": role, \n",
    "             \"content\": f\"Could you please emphasis one pain-point in the industry '{business_idea}', on which I investigate the opportunity to apply an Agentic AI. Please only answer to the question\"}]\n",
    "\n",
    "resp_pain_point = openai.chat.completions.create(\n",
    "     model=model,\n",
    "     messages=messages_pp)\n",
    "\n",
    "pain_point = resp_pain_point.choices[0].message.content\n",
    "\n",
    "message_solution = [{\"role\":  role,\n",
    "                     \"content\": f\"When thinking of applying Agentic AI on this business idea: '{business_idea}',\" \n",
    "                     f\"I identified this pain-point: '{pain_point}'. \" \n",
    "                     f\"Could you please explain with details, what kind of solutions I should apply ?\"}]\n",
    "pain_point_solution = openai.chat.completions.create(\n",
    "    model=model,\n",
    "    messages=message_solution)"
   ]
  },
  {
   "cell_type": "markdown",
   "metadata": {},
   "source": []
  },
  {
   "cell_type": "code",
   "execution_count": 43,
   "metadata": {},
   "outputs": [
    {
     "name": "stdout",
     "output_type": "stream",
     "text": [
      "Supply chain optimization\n",
      "One key pain-point in supply chain optimization is real-time decision-making under uncertainty, where dynamic disruptions (like delays, demand fluctuations, or inventory shortages) require swift, adaptive responses. Applying Agentic AI here could enable autonomous agents to continuously monitor and analyze multiple data streams, anticipate issues, and proactively reconfigure supply chain operations without human intervention.\n"
     ]
    },
    {
     "data": {
      "text/markdown": [
       "Certainly! Applying Agentic AI to solve the pain-point of real-time decision-making under uncertainty in supply chain optimization involves designing autonomous agents that can perceive, reason, decide, and act effectively, often with minimal human oversight. Here's a detailed explanation of the kinds of solutions you should consider:\n",
       "\n",
       "### 1. **Multi-Agent Systems for Decentralized Decision-Making**\n",
       "- **What:** Deploy a collection of autonomous agents, each specialized for specific supply chain functions (e.g., inventory management, logistics routing, demand forecasting).\n",
       "- **How:** These agents communicate and collaborate to share local knowledge and collectively optimize the supply chain.\n",
       "- **Benefit:** Decentralization allows faster, localized decision-making while maintaining global coherence, crucial during dynamic disruptions.\n",
       "\n",
       "### 2. **Real-Time Data Ingestion and Sensor Integration**\n",
       "- **What:** Integrate multiple real-time data sources such as IoT sensors (tracking shipments, warehouse conditions), ERP systems, market demand feeds, weather reports.\n",
       "- **How:** Agents continuously collect and preprocess this data using streaming analytics platforms (Kafka, Apache Flink).\n",
       "- **Benefit:** Enables situational awareness needed for timely detection of delays, demand spikes, or inventory shortages.\n",
       "\n",
       "### 3. **Predictive Analytics and Anomaly Detection**\n",
       "- **What:** Use machine learning models embedded in agents to forecast demand fluctuations, detect anomalies like shipment delays or quality issues.\n",
       "- **How:** Time-series forecasting (e.g., LSTM, Prophet), anomaly detection algorithms (e.g., Isolation Forest, Autoencoders) run on live data.\n",
       "- **Benefit:** Early anticipation of problems rather than reactive fixing.\n",
       "\n",
       "### 4. **Reinforcement Learning (RL) for Adaptive Decision Policies**\n",
       "- **What:** Agents employ RL algorithms to learn optimal policies for actions under uncertainty, such as rerouting shipments, adjusting inventory reorder points, or rescheduling deliveries.\n",
       "- **How:** Use simulation environments that model supply chain dynamics to train agents, allowing them to balance multiple objectives (cost, service level, risk).\n",
       "- **Benefit:** Continuous improvement as the agent adapts to evolving conditions.\n",
       "\n",
       "### 5. **Autonomous Planning and Scheduling**\n",
       "- **What:** Agents generate and revise supply chain plans dynamically.\n",
       "- **How:** AI planning algorithms (e.g., constraint satisfaction, mixed-integer programming augmented with heuristics) integrated with real-time inputs.\n",
       "- **Benefit:** Swift replanning when disruptions occur, e.g., rerouting to avoid delays or adjusting production schedules.\n",
       "\n",
       "### 6. **Multi-Objective Optimization Algorithms**\n",
       "- **What:** Agents optimize supply chain operations balancing trade-offs (cost vs. time, inventory levels vs. service rates).\n",
       "- **How:** Techniques like genetic algorithms, swarm intelligence, or Pareto optimization.\n",
       "- **Benefit:** More holistic decisions that respect business priorities even under unpredictable conditions.\n",
       "\n",
       "### 7. **Explainability and Human-in-the-Loop Controls**\n",
       "- **What:** Though the system acts autonomously, provide explainable AI components so humans can understand agent decisions when needed.\n",
       "- **How:** Use XAI frameworks for interpreting agent behaviors, offer override options for critical situations.\n",
       "- **Benefit:** Builds trust and ensures compliance with organizational policies.\n",
       "\n",
       "### 8. **Robustness and Fail-Safe Mechanisms**\n",
       "- **What:** Design agents to handle incomplete or noisy data and incorporate fallback procedures.\n",
       "- **How:** Incorporate uncertainty modeling (Bayesian networks), robust optimization, or safe RL techniques.\n",
       "- **Benefit:** Ensures system reliability during unexpected data issues or black swan events.\n",
       "\n",
       "---\n",
       "\n",
       "### Example Workflow of Agentic AI in Action\n",
       "\n",
       "1. **Monitoring:** Agents collect continuous updates from suppliers, transporters, warehouse sensors.\n",
       "2. **Analysis:** Anomaly detection flags a shipment delay; forecasting models predict a resulting inventory shortage.\n",
       "3. **Decision:** RL agents evaluate rerouting options, considering cost and delivery time preferences, and select a new plan.\n",
       "4. **Execution:** Scheduling agents coordinate with logistics systems to implement changes autonomously.\n",
       "5. **Feedback:** Results are monitored to refine models and policies over time.\n",
       "\n",
       "---\n",
       "\n",
       "### Technologies & Tools to Consider\n",
       "\n",
       "- **Data Infrastructure:** Apache Kafka, AWS Kinesis for streaming data\n",
       "- **ML Frameworks:** TensorFlow, PyTorch for forecasting and RL\n",
       "- **Planning/Optimization:** OR-Tools, Gurobi, or custom solvers\n",
       "- **Multi-Agent Platforms:** JADE, AnyLogic, or custom implementations\n",
       "- **Explainability:** LIME, SHAP, or proprietary XAI modules\n",
       "\n",
       "---\n",
       "\n",
       "### Summary\n",
       "\n",
       "You should build a **multi-agent AI platform** integrating:\n",
       "\n",
       "- Real-time multi-source data ingestion\n",
       "- Predictive and anomaly detection models\n",
       "- Reinforcement learning based adaptive decision-making\n",
       "- Autonomous planning and execution systems\n",
       "- Optimization frameworks balancing multiple objectives\n",
       "- Explainability and robustness features for trust and resilience\n",
       "\n",
       "This Agentic AI solution will enable your supply chain to be proactive, adaptive, and robust in the face of disruptions, ultimately improving efficiency, reducing costs, and enhancing service levels.\n",
       "\n",
       "If you want, I can help you with a step-by-step implementation strategy or technical architecture diagram next!"
      ],
      "text/plain": [
       "<IPython.core.display.Markdown object>"
      ]
     },
     "metadata": {},
     "output_type": "display_data"
    }
   ],
   "source": [
    "from IPython.display import Markdown, display\n",
    "print(business_idea)\n",
    "print(pain_point)\n",
    "display(Markdown(pain_point_solution.choices[0].message.content))"
   ]
  },
  {
   "cell_type": "code",
   "execution_count": null,
   "metadata": {},
   "outputs": [],
   "source": []
  }
 ],
 "metadata": {
  "kernelspec": {
   "display_name": ".venv",
   "language": "python",
   "name": "python3"
  },
  "language_info": {
   "codemirror_mode": {
    "name": "ipython",
    "version": 3
   },
   "file_extension": ".py",
   "mimetype": "text/x-python",
   "name": "python",
   "nbconvert_exporter": "python",
   "pygments_lexer": "ipython3",
   "version": "3.12.11"
  }
 },
 "nbformat": 4,
 "nbformat_minor": 2
}
